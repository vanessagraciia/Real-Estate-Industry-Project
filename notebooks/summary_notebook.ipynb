{
 "cells": [
  {
   "cell_type": "markdown",
   "metadata": {},
   "source": [
    "# **Project Name**    - Real Estate Industry Project"
   ]
  },
  {
   "cell_type": "markdown",
   "metadata": {},
   "source": [
    "##### **Group - 31**"
   ]
  },
  {
   "cell_type": "markdown",
   "metadata": {},
   "source": [
    "# **Project Summary -**"
   ]
  },
  {
   "cell_type": "markdown",
   "metadata": {},
   "source": [
    "The NYC taxi trip durations dataset is a dataset released by the NYC Taxi and Limousine Commission which records the trip duration of various taxi rides within the New York City for the first half of the year 2016. The objective of this project is to predict this duration of taxi trips in NYC based on various features such as pickup and dropoff coordinates, pickup and dropoff datetime information, and other recorded factors. This project involves several steps to pre-process the data, explore the relationships between variables, build regression models, and choose the best model after evaluating their performance using relevant metrics and charts.\n",
    "\n",
    "The initial data preprocessing involved converting datetime features into more meaningful variables such as the day of the week, day of the month, month of the year, and hour of the day. This allows for a better understanding of how the trip duration varies across different time periods, and also create new features which can establish temporal (daily, weekly and monthly) relationships with the trip duration. Additionally, outliers of trip duration are handled by trimming extreme values and filtering pickup and dropoff coordinates within (and the near proximity of) NYC boundaries.\n",
    "\n",
    "To select the most relevant features, separate datasets are created by considering different combinations of a few features of interest - namely, passenger count, store_and_fwd_flag, and holidays. Each of these datasets are then fit into regression models as separate iterations, which allows for a comparison of their impact on the predicting power of the models.\n",
    "\n",
    "On these features, extensive Exploratory Data Analysis (EDA) is conducted using various visualization techniques including - but not limited to - scatter plots, histograms, and box plots, to uncover patterns between variables. Univariate analysis for each continuous and categorical variables is analysed. Bivariate relationships between the same features with the dependent variable are also studied.\n",
    "\n",
    "Further pre-processing steps involved transforming continuous variables using the appropriate transformations to ensure normal distribution of the residues, and applying standard scaling to ensure consistent scaling across features. A few hypothesis tests are also done, which included tests to determine the dependance feature to be predicted with some features of interest.\n",
    "\n",
    "The scaled dataset is split into train and test dataset based on an appropriate test ratio. Seven different regression models are then implemented onto this dataset roughly in the order of increasing complexity, namely - Linear Regression, Lasso regularized linear model, Ridge regularized linear model, Polynomial regression, Light gradient-boosting machine, Decision Trees, and the XGBoost. The 2 best models out of these are then stacked together to test for further improvement.\n",
    "\n",
    "The R<sup>2</sup> score, adjusted R<sup>2</sup> and RMSE are selected as the model evaluation metrics based on logical reasons. Based on these metrics alone, the XGBoost was concluded to be the best performing model with a best R<sup>2</sup> score of 0.813, with LightGBM coming a close second. The Stacking model based off of these two models did not show any improvement of results. Also, the best combination of the three features of interest is concluded to be to include holidays while excluding the passenger count and store_and_fwd_flag, which are deemed redundant.\n",
    "\n",
    "Visualization played a crucial role in understanding and presenting the results. Predictions for each model are visualized using scatter plots, line plots, and density plots, allowing for a comparison between the true and predicted values. The ELI5 library is then utilized to provide explainability for the XGBoost model, enabling a better understanding of the feature importances and their contributions to the predictions.\n",
    "\n",
    "Future scope for this project includes several avenues for improvement and expansion. First, additional features related to traffic patterns, or special events could be incorporated to enhance the predictive power of the models. Also, fine-tuning the hyperparameters of the models and conducting cross-validation experiments can help achieve better generalization and robustness, which was avoided in this project due to its high computational cost due to the complexity of the models like XGBoost.\n",
    "\n",
    "In conclusion, this project successfully developed a regression model using XGBoost to predict the duration of NYC taxi trips. Through thorough data preprocessing, exploratory analysis, and model evaluation, valuable insights were gained into the factors influencing the trip duration. The project also lays foundation for future improvements and expansions in order to enhance the accuracy and applicability of the prediction models in predicting the taxi trip durations.\n"
   ]
  },
  {
   "cell_type": "markdown",
   "metadata": {},
   "source": [
    "# **GitHub Link -**"
   ]
  },
  {
   "cell_type": "markdown",
   "metadata": {},
   "source": [
    "https://github.com/MAST30034-Applied-Data-Science/real-estate-industry-project-open-source-industry-project-31"
   ]
  },
  {
   "cell_type": "markdown",
   "metadata": {},
   "source": [
    "# **Problem Statement**"
   ]
  },
  {
   "cell_type": "markdown",
   "metadata": {},
   "source": [
    "**BUSINESS PROBLEM STATEMENT**\n",
    "\n",
    "The New York City (NYC) taxi service is a critical transportation system for millions of residents and visitors. Efficient prediction of the duration of taxi trips is necessary to significantly enhance the overall taxi service experience and enable effective planning and resource allocation.\n",
    "\n",
    "The NYC taxi trip duration dataset is a dataset released by the NYC [Taxi and Limousine Commission](https://www.nyc.gov/site/tlc/index.page), which includes several features like pickup time, dropoff time, pickup coordinates etc as possible predictors for prediction of taxi trip duration. The aim of this project is to accurately predict the trip duration using a regression model. Apart from utilising the above predictors, several other external factors such as holidays, month of the year, hour of the day etc shall be utilised to improve the prediction power.\n",
    "\n",
    "By developing a reliable prediction algorithm which predicts the trip duration beforehand, several stakeholders can benefit. For taxi service providers, it enables better resource management, allowing them to allocate taxis more efficiently and reduce customer wait times. Additionally, improved trip duration predictions can help taxi drivers plan their routes and schedules more effectively, leading to increased productivity. Hence, this project aims to this project aims to enhance the efficiency of the taxi service, improve customer satisfaction, and contribute to the overall transportation ecosystem of the city."
   ]
  },
  {
   "cell_type": "markdown",
   "metadata": {},
   "source": [
    "# **Let's Begin !**"
   ]
  },
  {
   "cell_type": "markdown",
   "metadata": {},
   "source": [
    "## **1. Data Exploration & Retrieval**"
   ]
  },
  {
   "cell_type": "markdown",
   "metadata": {},
   "source": [
    "**Main Dataset**\n",
    "\n",
    "**Internal**:\n",
    "The main dataset is extracted from `domain.com.au`, which records the rental properties and their corresponding features, including `Address`, `Prices`, `Number of Bedroom`, `Number of Bathroom`, `Number of Parking`, and `Unit Type`. \n",
    "\n",
    "**External**:\n",
    "In addition to the property data, official statistics data on a wide range of economic, social, population and environmental matters of importance to Australia published by Australia Bureau of Statistics (ABS) is used to provide more details to support the analysis of rental properties."
   ]
  },
  {
   "cell_type": "markdown",
   "metadata": {},
   "source": [
    "**Supporting External Dataset**\n",
    "\n",
    "1. PTV Train Station Data\n",
    "2. PTV Tram Stop Data\n",
    "3. School Location Data\n",
    "4. Landmarks Data\n",
    "5. Crime & Offence Data\n",
    "6. Moving Annual Rent By Suburb (Quarterly) Data"
   ]
  },
  {
   "cell_type": "markdown",
   "metadata": {},
   "source": [
    "## **2. Extract, Transform, Load**"
   ]
  },
  {
   "cell_type": "markdown",
   "metadata": {},
   "source": [
    "**Property Dataset**\n",
    "\n",
    "It is found that\n",
    "*   There are **10125 rows and 6 columns**, out of which one is **Prices**, which is the the dependent variable to be predicted\n",
    "*   There are **906 duplicated data** in the dataset, which we removed\n",
    "\n",
    "Then we\n",
    "*   Extract the numerical values from `Prices` column\n",
    "*   Remove the rows with missing `Prices` values\n",
    "*   Clean the `Address` column\n",
    "\n",
    "\n",
    "**ABS Dataset**\n",
    "*   Extract only relevant features\n"
   ]
  },
  {
   "cell_type": "markdown",
   "metadata": {},
   "source": [
    "## **3. Exploratory Data Analysis**"
   ]
  },
  {
   "cell_type": "markdown",
   "metadata": {},
   "source": [
    "After joining all the internal and external datasets together, we did preliminary analysis on the property, property prices, and property unit type."
   ]
  },
  {
   "cell_type": "code",
   "execution_count": 30,
   "metadata": {},
   "outputs": [
    {
     "ename": "FileNotFoundError",
     "evalue": "[Errno 2] No such file or directory: '../plots/house.png'",
     "output_type": "error",
     "traceback": [
      "\u001b[0;31m---------------------------------------------------------------------------\u001b[0m",
      "\u001b[0;31mFileNotFoundError\u001b[0m                         Traceback (most recent call last)",
      "\u001b[0;32m/var/folders/fb/8dbpt5713rv57xwtdrr1lrbw0000gn/T/ipykernel_49140/2345749266.py\u001b[0m in \u001b[0;36m<module>\u001b[0;34m\u001b[0m\n\u001b[1;32m      6\u001b[0m \u001b[0;34m\u001b[0m\u001b[0m\n\u001b[1;32m      7\u001b[0m \u001b[0;31m# Load and display the image using Matplotlib\u001b[0m\u001b[0;34m\u001b[0m\u001b[0;34m\u001b[0m\u001b[0m\n\u001b[0;32m----> 8\u001b[0;31m \u001b[0mimg\u001b[0m \u001b[0;34m=\u001b[0m \u001b[0mmpimg\u001b[0m\u001b[0;34m.\u001b[0m\u001b[0mimread\u001b[0m\u001b[0;34m(\u001b[0m\u001b[0mimage_path\u001b[0m\u001b[0;34m)\u001b[0m\u001b[0;34m\u001b[0m\u001b[0;34m\u001b[0m\u001b[0m\n\u001b[0m\u001b[1;32m      9\u001b[0m \u001b[0mplt\u001b[0m\u001b[0;34m.\u001b[0m\u001b[0mimshow\u001b[0m\u001b[0;34m(\u001b[0m\u001b[0mimg\u001b[0m\u001b[0;34m)\u001b[0m\u001b[0;34m\u001b[0m\u001b[0;34m\u001b[0m\u001b[0m\n\u001b[1;32m     10\u001b[0m \u001b[0mplt\u001b[0m\u001b[0;34m.\u001b[0m\u001b[0maxis\u001b[0m\u001b[0;34m(\u001b[0m\u001b[0;34m'off'\u001b[0m\u001b[0;34m)\u001b[0m  \u001b[0;31m# Optional: Turn off axes if not needed\u001b[0m\u001b[0;34m\u001b[0m\u001b[0;34m\u001b[0m\u001b[0m\n",
      "\u001b[0;32m~/opt/anaconda3/lib/python3.9/site-packages/matplotlib/image.py\u001b[0m in \u001b[0;36mimread\u001b[0;34m(fname, format)\u001b[0m\n\u001b[1;32m   1561\u001b[0m             \u001b[0;34m\"``np.array(PIL.Image.open(urllib.request.urlopen(url)))``.\"\u001b[0m\u001b[0;34m\u001b[0m\u001b[0;34m\u001b[0m\u001b[0m\n\u001b[1;32m   1562\u001b[0m             )\n\u001b[0;32m-> 1563\u001b[0;31m     \u001b[0;32mwith\u001b[0m \u001b[0mimg_open\u001b[0m\u001b[0;34m(\u001b[0m\u001b[0mfname\u001b[0m\u001b[0;34m)\u001b[0m \u001b[0;32mas\u001b[0m \u001b[0mimage\u001b[0m\u001b[0;34m:\u001b[0m\u001b[0;34m\u001b[0m\u001b[0;34m\u001b[0m\u001b[0m\n\u001b[0m\u001b[1;32m   1564\u001b[0m         return (_pil_png_to_float_array(image)\n\u001b[1;32m   1565\u001b[0m                 \u001b[0;32mif\u001b[0m \u001b[0misinstance\u001b[0m\u001b[0;34m(\u001b[0m\u001b[0mimage\u001b[0m\u001b[0;34m,\u001b[0m \u001b[0mPIL\u001b[0m\u001b[0;34m.\u001b[0m\u001b[0mPngImagePlugin\u001b[0m\u001b[0;34m.\u001b[0m\u001b[0mPngImageFile\u001b[0m\u001b[0;34m)\u001b[0m \u001b[0;32melse\u001b[0m\u001b[0;34m\u001b[0m\u001b[0;34m\u001b[0m\u001b[0m\n",
      "\u001b[0;32m~/opt/anaconda3/lib/python3.9/site-packages/PIL/ImageFile.py\u001b[0m in \u001b[0;36m__init__\u001b[0;34m(self, fp, filename)\u001b[0m\n\u001b[1;32m    102\u001b[0m         \u001b[0;32mif\u001b[0m \u001b[0mis_path\u001b[0m\u001b[0;34m(\u001b[0m\u001b[0mfp\u001b[0m\u001b[0;34m)\u001b[0m\u001b[0;34m:\u001b[0m\u001b[0;34m\u001b[0m\u001b[0;34m\u001b[0m\u001b[0m\n\u001b[1;32m    103\u001b[0m             \u001b[0;31m# filename\u001b[0m\u001b[0;34m\u001b[0m\u001b[0;34m\u001b[0m\u001b[0m\n\u001b[0;32m--> 104\u001b[0;31m             \u001b[0mself\u001b[0m\u001b[0;34m.\u001b[0m\u001b[0mfp\u001b[0m \u001b[0;34m=\u001b[0m \u001b[0mopen\u001b[0m\u001b[0;34m(\u001b[0m\u001b[0mfp\u001b[0m\u001b[0;34m,\u001b[0m \u001b[0;34m\"rb\"\u001b[0m\u001b[0;34m)\u001b[0m\u001b[0;34m\u001b[0m\u001b[0;34m\u001b[0m\u001b[0m\n\u001b[0m\u001b[1;32m    105\u001b[0m             \u001b[0mself\u001b[0m\u001b[0;34m.\u001b[0m\u001b[0mfilename\u001b[0m \u001b[0;34m=\u001b[0m \u001b[0mfp\u001b[0m\u001b[0;34m\u001b[0m\u001b[0;34m\u001b[0m\u001b[0m\n\u001b[1;32m    106\u001b[0m             \u001b[0mself\u001b[0m\u001b[0;34m.\u001b[0m\u001b[0m_exclusive_fp\u001b[0m \u001b[0;34m=\u001b[0m \u001b[0;32mTrue\u001b[0m\u001b[0;34m\u001b[0m\u001b[0;34m\u001b[0m\u001b[0m\n",
      "\u001b[0;31mFileNotFoundError\u001b[0m: [Errno 2] No such file or directory: '../plots/house.png'"
     ]
    }
   ],
   "source": [
    "import matplotlib.pyplot as plt\n",
    "import matplotlib.image as mpimg\n",
    "\n",
    "# Define the path to your PNG image file\n",
    "image_path = '../plots/house.png'\n",
    "\n",
    "# Load and display the image using Matplotlib\n",
    "img = mpimg.imread(image_path)\n",
    "plt.imshow(img)\n",
    "plt.axis('off')  # Optional: Turn off axes if not needed\n",
    "plt.show()"
   ]
  },
  {
   "cell_type": "markdown",
   "metadata": {},
   "source": [
    "### Import Libraries"
   ]
  },
  {
   "cell_type": "code",
   "execution_count": 1,
   "metadata": {},
   "outputs": [],
   "source": [
    "import pandas as pd\n",
    "import os"
   ]
  },
  {
   "cell_type": "code",
   "execution_count": 2,
   "metadata": {},
   "outputs": [
    {
     "name": "stdout",
     "output_type": "stream",
     "text": [
      "507\n"
     ]
    },
    {
     "data": {
      "text/html": [
       "<div>\n",
       "<style scoped>\n",
       "    .dataframe tbody tr th:only-of-type {\n",
       "        vertical-align: middle;\n",
       "    }\n",
       "\n",
       "    .dataframe tbody tr th {\n",
       "        vertical-align: top;\n",
       "    }\n",
       "\n",
       "    .dataframe thead th {\n",
       "        text-align: right;\n",
       "    }\n",
       "</style>\n",
       "<table border=\"1\" class=\"dataframe\">\n",
       "  <thead>\n",
       "    <tr style=\"text-align: right;\">\n",
       "      <th></th>\n",
       "      <th>Address</th>\n",
       "      <th>Prices</th>\n",
       "      <th>Bedroom</th>\n",
       "      <th>Bathroom</th>\n",
       "      <th>Parking</th>\n",
       "      <th>Type</th>\n",
       "    </tr>\n",
       "  </thead>\n",
       "  <tbody>\n",
       "    <tr>\n",
       "      <th>0</th>\n",
       "      <td>39 Durham Crescent, \\nHOPPERS CROSSING VIC 3029</td>\n",
       "      <td>$450 Per Week</td>\n",
       "      <td>3</td>\n",
       "      <td>2</td>\n",
       "      <td>2</td>\n",
       "      <td>House</td>\n",
       "    </tr>\n",
       "    <tr>\n",
       "      <th>1</th>\n",
       "      <td>7/1 Mabel Street, \\nIVANHOE VIC 3079</td>\n",
       "      <td>$450 Per Week</td>\n",
       "      <td>2</td>\n",
       "      <td>1</td>\n",
       "      <td>1</td>\n",
       "      <td>Townhouse</td>\n",
       "    </tr>\n",
       "    <tr>\n",
       "      <th>2</th>\n",
       "      <td>2/59 Green Street, \\nIVANHOE VIC 3079</td>\n",
       "      <td>$450 per week</td>\n",
       "      <td>2</td>\n",
       "      <td>1</td>\n",
       "      <td>1</td>\n",
       "      <td>Apartment / Unit / Flat</td>\n",
       "    </tr>\n",
       "    <tr>\n",
       "      <th>3</th>\n",
       "      <td>104/15 Ivanhoe Parade, \\nIVANHOE VIC 3079</td>\n",
       "      <td>$450 per week</td>\n",
       "      <td>1</td>\n",
       "      <td>1</td>\n",
       "      <td>1</td>\n",
       "      <td>Apartment / Unit / Flat</td>\n",
       "    </tr>\n",
       "    <tr>\n",
       "      <th>4</th>\n",
       "      <td>4/64 Lorraine Crescent, \\nJACANA VIC 3047</td>\n",
       "      <td>$450</td>\n",
       "      <td>2</td>\n",
       "      <td>1</td>\n",
       "      <td>1</td>\n",
       "      <td>Townhouse</td>\n",
       "    </tr>\n",
       "    <tr>\n",
       "      <th>...</th>\n",
       "      <td>...</td>\n",
       "      <td>...</td>\n",
       "      <td>...</td>\n",
       "      <td>...</td>\n",
       "      <td>...</td>\n",
       "      <td>...</td>\n",
       "    </tr>\n",
       "    <tr>\n",
       "      <th>10120</th>\n",
       "      <td>30 Scott Street, \\nBELMONT VIC 3216</td>\n",
       "      <td>$470.00</td>\n",
       "      <td>3</td>\n",
       "      <td>1</td>\n",
       "      <td>2</td>\n",
       "      <td>House</td>\n",
       "    </tr>\n",
       "    <tr>\n",
       "      <th>10121</th>\n",
       "      <td>6 Stringybark Court, \\nBERWICK VIC 3806</td>\n",
       "      <td>$470 per week</td>\n",
       "      <td>3</td>\n",
       "      <td>2</td>\n",
       "      <td></td>\n",
       "      <td>House</td>\n",
       "    </tr>\n",
       "    <tr>\n",
       "      <th>10122</th>\n",
       "      <td>104 Canterbury Jetty Road, \\nBLAIRGOWRIE VIC 3942</td>\n",
       "      <td>$470.00 per week pw</td>\n",
       "      <td>3</td>\n",
       "      <td>1</td>\n",
       "      <td>2</td>\n",
       "      <td>House</td>\n",
       "    </tr>\n",
       "    <tr>\n",
       "      <th>10123</th>\n",
       "      <td>14 Northerly Drive, \\nBONNIE BROOK VIC 3335</td>\n",
       "      <td>$470</td>\n",
       "      <td>4</td>\n",
       "      <td>2</td>\n",
       "      <td>2</td>\n",
       "      <td>House</td>\n",
       "    </tr>\n",
       "    <tr>\n",
       "      <th>10124</th>\n",
       "      <td>8/18 Cochrane Street, \\nBRIGHTON VIC 3186</td>\n",
       "      <td>$470.00</td>\n",
       "      <td>2</td>\n",
       "      <td>1</td>\n",
       "      <td>1</td>\n",
       "      <td>Apartment / Unit / Flat</td>\n",
       "    </tr>\n",
       "  </tbody>\n",
       "</table>\n",
       "<p>10125 rows × 6 columns</p>\n",
       "</div>"
      ],
      "text/plain": [
       "                                                 Address               Prices  \\\n",
       "0        39 Durham Crescent, \\nHOPPERS CROSSING VIC 3029        $450 Per Week   \n",
       "1                   7/1 Mabel Street, \\nIVANHOE VIC 3079        $450 Per Week   \n",
       "2                  2/59 Green Street, \\nIVANHOE VIC 3079        $450 per week   \n",
       "3              104/15 Ivanhoe Parade, \\nIVANHOE VIC 3079        $450 per week   \n",
       "4              4/64 Lorraine Crescent, \\nJACANA VIC 3047                 $450   \n",
       "...                                                  ...                  ...   \n",
       "10120                30 Scott Street, \\nBELMONT VIC 3216              $470.00   \n",
       "10121            6 Stringybark Court, \\nBERWICK VIC 3806        $470 per week   \n",
       "10122  104 Canterbury Jetty Road, \\nBLAIRGOWRIE VIC 3942  $470.00 per week pw   \n",
       "10123        14 Northerly Drive, \\nBONNIE BROOK VIC 3335                 $470   \n",
       "10124          8/18 Cochrane Street, \\nBRIGHTON VIC 3186              $470.00   \n",
       "\n",
       "      Bedroom Bathroom Parking                     Type  \n",
       "0           3        2       2                    House  \n",
       "1           2        1       1                Townhouse  \n",
       "2           2        1       1  Apartment / Unit / Flat  \n",
       "3           1        1       1  Apartment / Unit / Flat  \n",
       "4           2        1       1                Townhouse  \n",
       "...       ...      ...     ...                      ...  \n",
       "10120       3        1       2                    House  \n",
       "10121       3        2                            House  \n",
       "10122       3        1       2                    House  \n",
       "10123       4        2       2                    House  \n",
       "10124       2        1       1  Apartment / Unit / Flat  \n",
       "\n",
       "[10125 rows x 6 columns]"
      ]
     },
     "execution_count": 2,
     "metadata": {},
     "output_type": "execute_result"
    }
   ],
   "source": [
    "os.chdir('../data/raw/dataset')\n",
    "\n",
    "#Listing all the files in directory ending with \".csv\"\n",
    "csv_files = [f for f in os.listdir() if f.endswith('.csv')]\n",
    "print(len(csv_files))\n",
    "\n",
    "#Looping through the list of all the CSV files and read each file into a DataFrame\n",
    "dfs = []\n",
    "for csv in csv_files:\n",
    "    df = pd.read_csv(csv)\n",
    "    dfs.append(df)\n",
    "    \n",
    "#Joining together all the DataFrames in the list to one DataFrame.\n",
    "final_df = pd.concat(dfs, ignore_index=True)\n",
    "final_df"
   ]
  },
  {
   "cell_type": "code",
   "execution_count": 5,
   "metadata": {},
   "outputs": [
    {
     "data": {
      "text/plain": [
       "906"
      ]
     },
     "execution_count": 5,
     "metadata": {},
     "output_type": "execute_result"
    }
   ],
   "source": [
    "sum(final_df.duplicated())"
   ]
  },
  {
   "cell_type": "code",
   "execution_count": 6,
   "metadata": {},
   "outputs": [
    {
     "data": {
      "text/plain": [
       "Address     0\n",
       "Prices      0\n",
       "Bedroom     0\n",
       "Bathroom    0\n",
       "Parking     0\n",
       "Type        0\n",
       "dtype: int64"
      ]
     },
     "execution_count": 6,
     "metadata": {},
     "output_type": "execute_result"
    }
   ],
   "source": [
    "final_df.isnull().sum()"
   ]
  },
  {
   "cell_type": "markdown",
   "metadata": {},
   "source": [
    "On a first look at the dataset, it is found that\n",
    "*   There are **10125 rows and 6 columns**, out of which one is **Prices**, which is the the dependent variable to be predicted\n",
    "*   There are **906 duplicated data** in the dataset\n",
    "*   There are **no missing values** in the dataset"
   ]
  },
  {
   "cell_type": "markdown",
   "metadata": {},
   "source": [
    "## **2. Understanding Your Variables**"
   ]
  },
  {
   "cell_type": "markdown",
   "metadata": {},
   "source": []
  }
 ],
 "metadata": {
  "kernelspec": {
   "display_name": "base",
   "language": "python",
   "name": "python3"
  },
  "language_info": {
   "codemirror_mode": {
    "name": "ipython",
    "version": 3
   },
   "file_extension": ".py",
   "mimetype": "text/x-python",
   "name": "python",
   "nbconvert_exporter": "python",
   "pygments_lexer": "ipython3",
   "version": "3.9.13"
  }
 },
 "nbformat": 4,
 "nbformat_minor": 2
}
