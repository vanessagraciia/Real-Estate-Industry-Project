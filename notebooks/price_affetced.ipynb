{
 "cells": [
  {
   "cell_type": "code",
   "execution_count": 1,
   "metadata": {},
   "outputs": [],
   "source": [
    "import pandas as pd\n",
    "import os\n",
    "\n",
    "from sklearn.linear_model import LinearRegression, LogisticRegression\n",
    "\n",
    "from sklearn.metrics import mean_absolute_error,mean_squared_error\n",
    "from sklearn.model_selection import train_test_split\n",
    "import numpy as np\n",
    "import seaborn as sns\n",
    "import matplotlib.pyplot as plt\n",
    "\n",
    "from sklearn.feature_selection import SelectKBest\n",
    "from sklearn.feature_selection import f_classif, chi2\n",
    "\n",
    "\n",
    "from sklearn.model_selection import RandomizedSearchCV\n",
    "from sklearn.ensemble import RandomForestClassifier\n",
    "\n",
    "from sklearn.cluster import KMeans\n",
    "from sklearn.metrics import silhouette_score\n",
    "\n",
    "from sklearn.preprocessing import OneHotEncoder, LabelEncoder, OrdinalEncoder\n",
    "\n",
    "from sklearn.metrics import accuracy_score, confusion_matrix\n"
   ]
  },
  {
   "cell_type": "code",
   "execution_count": 2,
   "metadata": {},
   "outputs": [],
   "source": [
    "abs_2021 = pd.read_csv('../data/curated/2021ABS_csv')\n",
    "\n"
   ]
  },
  {
   "cell_type": "code",
   "execution_count": 38,
   "metadata": {},
   "outputs": [],
   "source": [
    "features = [\n",
    "    'Estimated resident population (no.)',\n",
    "    'Population density (persons/km2)',\n",
    "    'Median age - persons (years)',\n",
    "    'Working age population (aged 15-64 years) (no.)', 'Renter (no.)',\n",
    "    'Health care and social assistance (no.)','Financial and insurance services (no.)',\n",
    "    'Administrative and support services (no.)','Education and training (no.)',\n",
    "    'Accommodation and food services (no.)','Public administration and safety (no.)',\n",
    "    'Value of residential building ($m)', 'Houses - total (no.)', \n",
    "    'Townhouses - total (no.)', 'Apartments - total (no.)', 'Rented (no.)',\n",
    "    'Count of homeless persons (no.)','Used at least one form of public transport (train, tram, bus, ferry) (no.)',\n",
    "    'Median weekly household rental payment ($)', 'Median equivalised total household income (weekly) ($)'\n",
    "]\n",
    "\n"
   ]
  },
  {
   "cell_type": "code",
   "execution_count": 39,
   "metadata": {},
   "outputs": [],
   "source": [
    "abs_features = abs_2021[features]\n",
    "abs_features = abs_features.dropna(axis=0).reset_index(drop=True)\n",
    "rent = abs_features['Median weekly household rental payment ($)']\n",
    "abs_features = abs_features.drop(['Median weekly household rental payment ($)'], axis=1)"
   ]
  },
  {
   "cell_type": "code",
   "execution_count": 41,
   "metadata": {},
   "outputs": [
    {
     "name": "stdout",
     "output_type": "stream",
     "text": [
      "1 : 0.3758334299369305 \n",
      "\n",
      "2 : 0.4503007497480628 \n",
      "\n",
      "3 : 0.5529046301078329 \n",
      "\n",
      "4 : 0.649744886030948 \n",
      "\n",
      "5 : 0.7048303430875835 \n",
      "\n",
      "6 : 0.686261209316243 \n",
      "\n",
      "7 : 0.7199704586289781 \n",
      "\n",
      "8 : 0.7224765359781368 \n",
      "\n",
      "9 : 0.736230736266075 \n",
      "\n",
      "10 : 0.7410648117284774 \n",
      "\n",
      "11 : 0.752896636922525 \n",
      "\n",
      "12 : 0.7436627503719038 \n",
      "\n",
      "13 : 0.6658865648815688 \n",
      "\n",
      "14 : 0.6395542035910757 \n",
      "\n",
      "15 : 0.6073649843903399 \n",
      "\n",
      "16 : 0.6088893966125838 \n",
      "\n",
      "17 : 0.6051389715167752 \n",
      "\n",
      "18 : 0.6071155242104164 \n",
      "\n",
      "19 : 0.6118748695505998 \n",
      "\n"
     ]
    }
   ],
   "source": [
    "for i in range(1, 20):    \n",
    "    test = SelectKBest(score_func=f_classif, k=i)\n",
    "    fit = test.fit(abs_features, rent)\n",
    "\n",
    "    # Summarize scores\n",
    "    np.set_printoptions(precision=3)\n",
    "    #print(fit.scores_)\n",
    "\n",
    "    new_features = fit.transform(abs_features)\n",
    "\n",
    "    new_features.shape\n",
    "\n",
    "\n",
    "    mask = fit.get_support() #list of booleans\n",
    "    best_features = [] # The list of your K best features\n",
    "\n",
    "    for bool_val, feature in zip(mask, features):\n",
    "        if bool_val:\n",
    "            best_features.append(feature)\n",
    "\n",
    "    best_features\n",
    "    X_train, X_test, y_train, y_test = train_test_split(new_features, rent, test_size = 0.2, random_state=20037)\n",
    "\n",
    "    lr = LinearRegression().fit(X_train, y_train)\n",
    "\n",
    "    print(i, ':', lr.score(X_test, y_test), '\\n')\n",
    "\n"
   ]
  },
  {
   "cell_type": "code",
   "execution_count": 31,
   "metadata": {},
   "outputs": [
    {
     "name": "stdout",
     "output_type": "stream",
     "text": [
      "0.752896636922525\n"
     ]
    }
   ],
   "source": [
    "test = SelectKBest(score_func=f_classif, k=11)\n",
    "fit = test.fit(abs_features, rent)\n",
    "\n",
    "# Summarize scores\n",
    "np.set_printoptions(precision=3)\n",
    "#print(fit.scores_)\n",
    "\n",
    "new_features = fit.transform(abs_features)\n",
    "\n",
    "new_features.shape\n",
    "\n",
    "\n",
    "mask = fit.get_support() #list of booleans\n",
    "best_features = [] # The list of your K best features\n",
    "\n",
    "for bool_val, feature in zip(mask, features):\n",
    "    if bool_val:\n",
    "        best_features.append(feature)\n",
    "\n",
    "best_features\n",
    "X_train, X_test, y_train, y_test = train_test_split(new_features, rent, test_size = 0.2, random_state=20037)\n",
    "\n",
    "lr = LinearRegression().fit(X_train, y_train)\n",
    "\n",
    "print(lr.score(X_test, y_test))\n"
   ]
  },
  {
   "cell_type": "code",
   "execution_count": 44,
   "metadata": {},
   "outputs": [
    {
     "data": {
      "text/plain": [
       "['Estimated resident population (no.)',\n",
       " 'Population density (persons/km2)',\n",
       " 'Median age - persons (years)',\n",
       " 'Working age population (aged 15-64 years) (no.)',\n",
       " 'Renter (no.)',\n",
       " 'Health care and social assistance (no.)',\n",
       " 'Financial and insurance services (no.)',\n",
       " 'Administrative and support services (no.)',\n",
       " 'Education and training (no.)',\n",
       " 'Accommodation and food services (no.)',\n",
       " 'Public administration and safety (no.)',\n",
       " 'Value of residential building ($m)',\n",
       " 'Houses - total (no.)',\n",
       " 'Townhouses - total (no.)',\n",
       " 'Apartments - total (no.)',\n",
       " 'Rented (no.)',\n",
       " 'Count of homeless persons (no.)',\n",
       " 'Used at least one form of public transport (train, tram, bus, ferry) (no.)',\n",
       " 'Median weekly household rental payment ($)']"
      ]
     },
     "execution_count": 44,
     "metadata": {},
     "output_type": "execute_result"
    }
   ],
   "source": [
    "best_features"
   ]
  },
  {
   "cell_type": "code",
   "execution_count": 32,
   "metadata": {},
   "outputs": [
    {
     "name": "stdout",
     "output_type": "stream",
     "text": [
      "Estimated resident population (no.) = 0.004423347412548766 \n",
      "\n",
      "Median age - persons (years) = 4.537628796957182 \n",
      "\n",
      "Working age population (aged 15-64 years) (no.) = 0.004025961584730453 \n",
      "\n",
      "Renter (no.) = -0.31878218564980537 \n",
      "\n",
      "Health care and social assistance (no.) = 0.082811658133125 \n",
      "\n",
      "Houses - total (no.) = -0.019480080366152563 \n",
      "\n",
      "Townhouses - total (no.) = -0.018780251486716137 \n",
      "\n",
      "Apartments - total (no.) = -0.021973538851708274 \n",
      "\n",
      "Rented (no.) = 0.017327997267167383 \n",
      "\n",
      "Count of homeless persons (no.) = -0.09104024938183677 \n",
      "\n",
      "Median weekly household rental payment ($) = 0.11366420097488657 \n",
      "\n"
     ]
    }
   ],
   "source": [
    "for i in range(len(best_features)):\n",
    "    print(best_features[i], '=', lr.coef_[i], '\\n')\n"
   ]
  },
  {
   "cell_type": "code",
   "execution_count": 22,
   "metadata": {},
   "outputs": [
    {
     "data": {
      "text/plain": [
       "<matplotlib.collections.PathCollection at 0x7f7bb3eb5960>"
      ]
     },
     "execution_count": 22,
     "metadata": {},
     "output_type": "execute_result"
    },
    {
     "data": {
      "image/png": "[encoded data removed]",
      "text/plain": [
       "<Figure size 640x480 with 1 Axes>"
      ]
     },
     "metadata": {},
     "output_type": "display_data"
    }
   ],
   "source": [
    "y_pred = lr.predict(X_test)\n",
    "plt.scatter(y_test, y_pred, color ='b')\n"
   ]
  },
  {
   "cell_type": "code",
   "execution_count": 28,
   "metadata": {},
   "outputs": [
    {
     "name": "stdout",
     "output_type": "stream",
     "text": [
      "MAE: 20.34414377737274\n",
      "MSE: 661.2985815627601\n",
      "RMSE: 25.71572634717441\n"
     ]
    }
   ],
   "source": [
    "mae = mean_absolute_error(y_true=y_test,y_pred=y_pred)\n",
    "#squared True returns MSE value, False returns RMSE value.\n",
    "mse = mean_squared_error(y_true=y_test,y_pred=y_pred) #default=True\n",
    "rmse = mean_squared_error(y_true=y_test,y_pred=y_pred,squared=False)\n",
    " \n",
    "print(\"MAE:\",mae)\n",
    "print(\"MSE:\",mse)\n",
    "print(\"RMSE:\",rmse)"
   ]
  }
 ],
 "metadata": {
  "kernelspec": {
   "display_name": "Python 3",
   "language": "python",
   "name": "python3"
  },
  "language_info": {
   "codemirror_mode": {
    "name": "ipython",
    "version": 3
   },
   "file_extension": ".py",
   "mimetype": "text/x-python",
   "name": "python",
   "nbconvert_exporter": "python",
   "pygments_lexer": "ipython3",
   "version": "3.10.12"
  },
  "orig_nbformat": 4
 },
 "nbformat": 4,
 "nbformat_minor": 2
}
