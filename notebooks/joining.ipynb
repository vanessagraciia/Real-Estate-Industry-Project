{
 "cells": [
  {
   "cell_type": "code",
   "execution_count": 1,
   "metadata": {},
   "outputs": [],
   "source": [
    "import pandas as pd\n",
    "import os\n"
   ]
  },
  {
   "cell_type": "code",
   "execution_count": 2,
   "metadata": {},
   "outputs": [],
   "source": [
    "prop  = pd.read_csv('../data/curated/clean_data.csv')"
   ]
  },
  {
   "cell_type": "code",
   "execution_count": 3,
   "metadata": {},
   "outputs": [
    {
     "data": {
      "text/html": [
       "<div>\n",
       "<style scoped>\n",
       "    .dataframe tbody tr th:only-of-type {\n",
       "        vertical-align: middle;\n",
       "    }\n",
       "\n",
       "    .dataframe tbody tr th {\n",
       "        vertical-align: top;\n",
       "    }\n",
       "\n",
       "    .dataframe thead th {\n",
       "        text-align: right;\n",
       "    }\n",
       "</style>\n",
       "<table border=\"1\" class=\"dataframe\">\n",
       "  <thead>\n",
       "    <tr style=\"text-align: right;\">\n",
       "      <th></th>\n",
       "      <th>Address</th>\n",
       "      <th>Prices</th>\n",
       "      <th>Bedroom</th>\n",
       "      <th>Bathroom</th>\n",
       "      <th>Parking</th>\n",
       "      <th>Type</th>\n",
       "    </tr>\n",
       "  </thead>\n",
       "  <tbody>\n",
       "    <tr>\n",
       "      <th>0</th>\n",
       "      <td>39 Durham Crescent, \\nHOPPERS CROSSING VIC 3029</td>\n",
       "      <td>450.0</td>\n",
       "      <td>3</td>\n",
       "      <td>2</td>\n",
       "      <td>2</td>\n",
       "      <td>House</td>\n",
       "    </tr>\n",
       "    <tr>\n",
       "      <th>1</th>\n",
       "      <td>7/1 Mabel Street, \\nIVANHOE VIC 3079</td>\n",
       "      <td>450.0</td>\n",
       "      <td>2</td>\n",
       "      <td>1</td>\n",
       "      <td>1</td>\n",
       "      <td>Townhouse</td>\n",
       "    </tr>\n",
       "    <tr>\n",
       "      <th>2</th>\n",
       "      <td>2/59 Green Street, \\nIVANHOE VIC 3079</td>\n",
       "      <td>450.0</td>\n",
       "      <td>2</td>\n",
       "      <td>1</td>\n",
       "      <td>1</td>\n",
       "      <td>Apartment / Unit / Flat</td>\n",
       "    </tr>\n",
       "    <tr>\n",
       "      <th>3</th>\n",
       "      <td>104/15 Ivanhoe Parade, \\nIVANHOE VIC 3079</td>\n",
       "      <td>450.0</td>\n",
       "      <td>1</td>\n",
       "      <td>1</td>\n",
       "      <td>1</td>\n",
       "      <td>Apartment / Unit / Flat</td>\n",
       "    </tr>\n",
       "    <tr>\n",
       "      <th>4</th>\n",
       "      <td>4/64 Lorraine Crescent, \\nJACANA VIC 3047</td>\n",
       "      <td>450.0</td>\n",
       "      <td>2</td>\n",
       "      <td>1</td>\n",
       "      <td>1</td>\n",
       "      <td>Townhouse</td>\n",
       "    </tr>\n",
       "    <tr>\n",
       "      <th>...</th>\n",
       "      <td>...</td>\n",
       "      <td>...</td>\n",
       "      <td>...</td>\n",
       "      <td>...</td>\n",
       "      <td>...</td>\n",
       "      <td>...</td>\n",
       "    </tr>\n",
       "    <tr>\n",
       "      <th>8788</th>\n",
       "      <td>30 Scott Street, \\nBELMONT VIC 3216</td>\n",
       "      <td>470.0</td>\n",
       "      <td>3</td>\n",
       "      <td>1</td>\n",
       "      <td>2</td>\n",
       "      <td>House</td>\n",
       "    </tr>\n",
       "    <tr>\n",
       "      <th>8789</th>\n",
       "      <td>6 Stringybark Court, \\nBERWICK VIC 3806</td>\n",
       "      <td>470.0</td>\n",
       "      <td>3</td>\n",
       "      <td>2</td>\n",
       "      <td></td>\n",
       "      <td>House</td>\n",
       "    </tr>\n",
       "    <tr>\n",
       "      <th>8790</th>\n",
       "      <td>104 Canterbury Jetty Road, \\nBLAIRGOWRIE VIC 3942</td>\n",
       "      <td>470.0</td>\n",
       "      <td>3</td>\n",
       "      <td>1</td>\n",
       "      <td>2</td>\n",
       "      <td>House</td>\n",
       "    </tr>\n",
       "    <tr>\n",
       "      <th>8791</th>\n",
       "      <td>14 Northerly Drive, \\nBONNIE BROOK VIC 3335</td>\n",
       "      <td>470.0</td>\n",
       "      <td>4</td>\n",
       "      <td>2</td>\n",
       "      <td>2</td>\n",
       "      <td>House</td>\n",
       "    </tr>\n",
       "    <tr>\n",
       "      <th>8792</th>\n",
       "      <td>8/18 Cochrane Street, \\nBRIGHTON VIC 3186</td>\n",
       "      <td>470.0</td>\n",
       "      <td>2</td>\n",
       "      <td>1</td>\n",
       "      <td>1</td>\n",
       "      <td>Apartment / Unit / Flat</td>\n",
       "    </tr>\n",
       "  </tbody>\n",
       "</table>\n",
       "<p>8793 rows × 6 columns</p>\n",
       "</div>"
      ],
      "text/plain": [
       "                                                Address  Prices Bedroom  \\\n",
       "0       39 Durham Crescent, \\nHOPPERS CROSSING VIC 3029   450.0       3   \n",
       "1                  7/1 Mabel Street, \\nIVANHOE VIC 3079   450.0       2   \n",
       "2                 2/59 Green Street, \\nIVANHOE VIC 3079   450.0       2   \n",
       "3             104/15 Ivanhoe Parade, \\nIVANHOE VIC 3079   450.0       1   \n",
       "4             4/64 Lorraine Crescent, \\nJACANA VIC 3047   450.0       2   \n",
       "...                                                 ...     ...     ...   \n",
       "8788                30 Scott Street, \\nBELMONT VIC 3216   470.0       3   \n",
       "8789            6 Stringybark Court, \\nBERWICK VIC 3806   470.0       3   \n",
       "8790  104 Canterbury Jetty Road, \\nBLAIRGOWRIE VIC 3942   470.0       3   \n",
       "8791        14 Northerly Drive, \\nBONNIE BROOK VIC 3335   470.0       4   \n",
       "8792          8/18 Cochrane Street, \\nBRIGHTON VIC 3186   470.0       2   \n",
       "\n",
       "     Bathroom Parking                     Type  \n",
       "0           2       2                    House  \n",
       "1           1       1                Townhouse  \n",
       "2           1       1  Apartment / Unit / Flat  \n",
       "3           1       1  Apartment / Unit / Flat  \n",
       "4           1       1                Townhouse  \n",
       "...       ...     ...                      ...  \n",
       "8788        1       2                    House  \n",
       "8789        2                            House  \n",
       "8790        1       2                    House  \n",
       "8791        2       2                    House  \n",
       "8792        1       1  Apartment / Unit / Flat  \n",
       "\n",
       "[8793 rows x 6 columns]"
      ]
     },
     "execution_count": 3,
     "metadata": {},
     "output_type": "execute_result"
    }
   ],
   "source": [
    "#Drop the data that has the price less than $10\n",
    "prop.drop(prop[prop['Prices'] < 10].index, inplace = True)\n",
    "prop = prop.reset_index(drop=True)\n",
    "prop"
   ]
  },
  {
   "cell_type": "markdown",
   "metadata": {},
   "source": [
    "Create a Suburb column in the property dataframe, using the word after \\n in the Address column\n"
   ]
  },
  {
   "cell_type": "code",
   "execution_count": 5,
   "metadata": {},
   "outputs": [
    {
     "name": "stderr",
     "output_type": "stream",
     "text": [
      "/tmp/ipykernel_159/1707504326.py:4: SettingWithCopyWarning: \n",
      "A value is trying to be set on a copy of a slice from a DataFrame\n",
      "\n",
      "See the caveats in the documentation: https://pandas.pydata.org/pandas-docs/stable/user_guide/indexing.html#returning-a-view-versus-a-copy\n",
      "  prop['Suburb'][i] = prop['Address'][i].split('\\n', 1)[-1].split(' VIC')[0]\n"
     ]
    }
   ],
   "source": [
    "prop['Suburb'] = \"\"\n",
    "\n",
    "for i in range(len(prop['Suburb'])):\n",
    "     prop['Suburb'][i] = prop['Address'][i].split('\\n', 1)[-1].split(' VIC')[0]\n",
    "\n",
    "\n",
    "###############################################\n",
    "\n",
    "\n",
    "addresses = prop['Address']\n",
    "suburbs_prop = []\n",
    "for address in addresses:\n",
    "     suburb = address.split('\\n', 1)[-1].split(' VIC')[0]\n",
    "     if suburb in suburbs_prop:\n",
    "          continue\n",
    "     else:\n",
    "          suburbs_prop.append(suburb)\n",
    "\n"
   ]
  },
  {
   "cell_type": "code",
   "execution_count": 7,
   "metadata": {},
   "outputs": [
    {
     "name": "stderr",
     "output_type": "stream",
     "text": [
      "/tmp/ipykernel_159/2508610607.py:5: SettingWithCopyWarning: \n",
      "A value is trying to be set on a copy of a slice from a DataFrame\n",
      "\n",
      "See the caveats in the documentation: https://pandas.pydata.org/pandas-docs/stable/user_guide/indexing.html#returning-a-view-versus-a-copy\n",
      "  abs['SA2 Area Name'][i] = abs['SA2 Area Name'][i].split('summary_ ', 1)[-1].split(' SA2', 1)[0].upper()\n",
      "/tmp/ipykernel_159/2508610607.py:9: SettingWithCopyWarning: \n",
      "A value is trying to be set on a copy of a slice from a DataFrame\n",
      "\n",
      "See the caveats in the documentation: https://pandas.pydata.org/pandas-docs/stable/user_guide/indexing.html#returning-a-view-versus-a-copy\n",
      "  abs['SA2 Area Name'][i] = abs['SA2 Area Name'][i].replace(' -', '')\n"
     ]
    }
   ],
   "source": [
    "#Find the SA2 area name for each row in the ABS data set\n",
    "\n",
    "abs = pd.read_csv('../data/curated/2021ABS_csv')\n",
    "for i in range(len(abs['SA2 Area Name'])):\n",
    "    abs['SA2 Area Name'][i] = abs['SA2 Area Name'][i].split('summary_ ', 1)[-1].split(' SA2', 1)[0].upper()\n",
    "    \n",
    "    if '-' in abs['SA2 Area Name'][i]:\n",
    "\n",
    "        abs['SA2 Area Name'][i] = abs['SA2 Area Name'][i].replace(' -', '')\n",
    "\n",
    "\n",
    "abs_sa2 =[]\n",
    "for i in range(len(abs['SA2 Area Name'])):\n",
    "    abs_sa2.append(abs['SA2 Area Name'][i].upper())"
   ]
  },
  {
   "cell_type": "code",
   "execution_count": 8,
   "metadata": {},
   "outputs": [
    {
     "name": "stderr",
     "output_type": "stream",
     "text": [
      "/tmp/ipykernel_159/85567018.py:19: SettingWithCopyWarning: \n",
      "A value is trying to be set on a copy of a slice from a DataFrame.\n",
      "Try using .loc[row_indexer,col_indexer] = value instead\n",
      "\n",
      "See the caveats in the documentation: https://pandas.pydata.org/pandas-docs/stable/user_guide/indexing.html#returning-a-view-versus-a-copy\n",
      "  external[feature] = ''\n",
      "/tmp/ipykernel_159/85567018.py:19: SettingWithCopyWarning: \n",
      "A value is trying to be set on a copy of a slice from a DataFrame.\n",
      "Try using .loc[row_indexer,col_indexer] = value instead\n",
      "\n",
      "See the caveats in the documentation: https://pandas.pydata.org/pandas-docs/stable/user_guide/indexing.html#returning-a-view-versus-a-copy\n",
      "  external[feature] = ''\n",
      "/tmp/ipykernel_159/85567018.py:19: SettingWithCopyWarning: \n",
      "A value is trying to be set on a copy of a slice from a DataFrame.\n",
      "Try using .loc[row_indexer,col_indexer] = value instead\n",
      "\n",
      "See the caveats in the documentation: https://pandas.pydata.org/pandas-docs/stable/user_guide/indexing.html#returning-a-view-versus-a-copy\n",
      "  external[feature] = ''\n",
      "/tmp/ipykernel_159/85567018.py:25: SettingWithCopyWarning: \n",
      "A value is trying to be set on a copy of a slice from a DataFrame\n",
      "\n",
      "See the caveats in the documentation: https://pandas.pydata.org/pandas-docs/stable/user_guide/indexing.html#returning-a-view-versus-a-copy\n",
      "  external[j][i] = abs[j][row_number]\n"
     ]
    }
   ],
   "source": [
    "external_features = [\n",
    "    'Estimated resident population (no.)',\n",
    "    'Population density (persons/km2)',\n",
    "    'Median age - persons (years)',\n",
    "    'Working age population (aged 15-64 years) (no.)',\n",
    "    'Employed (no.)', 'Unemployed (no.)', 'Renter (no.)',\n",
    "    'Health care and social assistance (no.)','Financial and insurance services (no.)',\n",
    "    'Administrative and support services (no.)','Education and training (no.)',\n",
    "    'Accommodation and food services (no.)','Public administration and safety (no.)',\n",
    "    'Value of residential building ($m)', 'Houses - total (no.)', \n",
    "    'Townhouses - total (no.)', 'Apartments - total (no.)',\n",
    "    'Median weekly household rental payment ($)', 'Rented (no.)',\n",
    "    'Count of homeless persons (no.)','Used at least one form of public transport (train, tram, bus, ferry) (no.)'\n",
    "]\n",
    "\n",
    "#Join the two data sets by name, so iof they have the same suburb give that property the corresponding data\n",
    "external  = prop[['Address', 'Suburb', 'Prices']]\n",
    "for feature in external_features:\n",
    "    external[feature] = ''\n",
    "\n",
    "for i in range(len(external['Suburb'])):\n",
    "    if external['Suburb'][i] in abs_sa2:\n",
    "        row_number = abs.index.get_loc(abs[abs['SA2 Area Name'] == external['Suburb'][i]].index[0])\n",
    "        for j in external_features:\n",
    "            external[j][i] = abs[j][row_number]\n",
    "\n"
   ]
  },
  {
   "cell_type": "code",
   "execution_count": 9,
   "metadata": {},
   "outputs": [
    {
     "name": "stderr",
     "output_type": "stream",
     "text": [
      "/tmp/ipykernel_159/2061638818.py:9: SettingWithCopyWarning: \n",
      "A value is trying to be set on a copy of a slice from a DataFrame\n",
      "\n",
      "See the caveats in the documentation: https://pandas.pydata.org/pandas-docs/stable/user_guide/indexing.html#returning-a-view-versus-a-copy\n",
      "  abs['SA2 Area Name'][i] = abs['SA2 Area Name'][i].replace(word, '')\n"
     ]
    }
   ],
   "source": [
    "#area codes to drop so we can get more rows filled\n",
    "drop_words = ['NORTH', 'SOUTH', 'EAST', 'WEST', '(VIC.)']\n",
    "\n",
    "#This will make Keilor East and Keilor West both just Keilor\n",
    "for i in range(len(abs['SA2 Area Name'])):\n",
    "    for word in drop_words:\n",
    "        if word in abs['SA2 Area Name'][i]:\n",
    "            word = ' '+word\n",
    "            abs['SA2 Area Name'][i] = abs['SA2 Area Name'][i].replace(word, '')\n"
   ]
  },
  {
   "cell_type": "code",
   "execution_count": 10,
   "metadata": {},
   "outputs": [],
   "source": [
    "#If the name of the suburb is the same add the rows together\n",
    "sum_dict = {}\n",
    "for column in external_features:\n",
    "    sum_dict[column] = 'sum'\n",
    "\n",
    "abs_grouped = abs.groupby('SA2 Area Name').agg(sum_dict).reset_index()"
   ]
  },
  {
   "cell_type": "code",
   "execution_count": 11,
   "metadata": {},
   "outputs": [
    {
     "name": "stderr",
     "output_type": "stream",
     "text": [
      "/tmp/ipykernel_159/10110642.py:10: SettingWithCopyWarning: \n",
      "A value is trying to be set on a copy of a slice from a DataFrame\n",
      "\n",
      "See the caveats in the documentation: https://pandas.pydata.org/pandas-docs/stable/user_guide/indexing.html#returning-a-view-versus-a-copy\n",
      "  external[j][i] = abs_grouped[j][row_number]\n"
     ]
    }
   ],
   "source": [
    "#Now apply the added rows to the data\n",
    "abs_sa2_grouped =[]\n",
    "for i in range(len(abs_grouped['SA2 Area Name'])):\n",
    "    abs_sa2_grouped.append(abs_grouped['SA2 Area Name'][i].upper())\n",
    "\n",
    "for i in range(len(external['Suburb'])):\n",
    "    if external['Suburb'][i] in abs_sa2_grouped:\n",
    "        row_number = abs_grouped.index.get_loc(abs_grouped[abs_grouped['SA2 Area Name'] == external['Suburb'][i]].index[0])\n",
    "        for j in external_features:\n",
    "            external[j][i] = abs_grouped[j][row_number]"
   ]
  },
  {
   "cell_type": "code",
   "execution_count": 12,
   "metadata": {},
   "outputs": [],
   "source": [
    "external.drop(external[external['Estimated resident population (no.)'] == ''].index, inplace = True)\n",
    "external = external.reset_index(drop=True)\n"
   ]
  },
  {
   "cell_type": "code",
   "execution_count": 13,
   "metadata": {},
   "outputs": [],
   "source": [
    "external_na = external.dropna(axis = 0)\n",
    "external_na = external_na.reset_index(drop=True)"
   ]
  },
  {
   "cell_type": "code",
   "execution_count": 14,
   "metadata": {},
   "outputs": [],
   "source": [
    "\n",
    "external_na.to_csv('Property_external.csv', index_label=False)"
   ]
  }
 ],
 "metadata": {
  "kernelspec": {
   "display_name": "Python 3",
   "language": "python",
   "name": "python3"
  },
  "language_info": {
   "codemirror_mode": {
    "name": "ipython",
    "version": 3
   },
   "file_extension": ".py",
   "mimetype": "text/x-python",
   "name": "python",
   "nbconvert_exporter": "python",
   "pygments_lexer": "ipython3",
   "version": "3.10.12"
  },
  "orig_nbformat": 4
 },
 "nbformat": 4,
 "nbformat_minor": 2
}
