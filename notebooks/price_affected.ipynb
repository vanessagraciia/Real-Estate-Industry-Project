{
 "cells": [
  {
   "cell_type": "code",
   "execution_count": 1,
   "metadata": {},
   "outputs": [],
   "source": [
    "import pandas as pd\n",
    "import os\n",
    "\n",
    "from sklearn.linear_model import LinearRegression\n",
    "from sklearn.metrics import mean_absolute_error,mean_squared_error\n",
    "from sklearn.model_selection import train_test_split\n",
    "import numpy as np\n",
    "import matplotlib.pyplot as plt\n",
    "\n",
    "from sklearn.feature_selection import SelectKBest\n",
    "from sklearn.feature_selection import f_classif"
   ]
  },
  {
   "cell_type": "markdown",
   "metadata": {},
   "source": [
    "In this notebook, we want to find how the best features affect the median rental payment of each area."
   ]
  },
  {
   "cell_type": "code",
   "execution_count": 2,
   "metadata": {},
   "outputs": [],
   "source": [
    "abs_2021 = pd.read_csv('../data/landing/2021ABS.csv')"
   ]
  },
  {
   "cell_type": "code",
   "execution_count": 3,
   "metadata": {},
   "outputs": [],
   "source": [
    "#The list of features we've previuously taken from the abs data\n",
    "features = [\n",
    "    'Estimated resident population (no.)',\n",
    "    'Population density (persons/km2)',\n",
    "    'Median age - persons (years)',\n",
    "    'Working age population (aged 15-64 years) (no.)', 'Renter (no.)',\n",
    "    'Health care and social assistance (no.)','Financial and insurance services (no.)',\n",
    "    'Administrative and support services (no.)','Education and training (no.)',\n",
    "    'Accommodation and food services (no.)','Public administration and safety (no.)',\n",
    "    'Value of residential building ($m)', 'Houses - total (no.)', \n",
    "    'Townhouses - total (no.)', 'Apartments - total (no.)', 'Rented (no.)',\n",
    "    'Count of homeless persons (no.)','Used at least one form of public transport (train, tram, bus, ferry) (no.)',\n",
    "    'Median weekly household rental payment ($)', 'Median equivalised total household income (weekly) ($)'\n",
    "]\n",
    "\n"
   ]
  },
  {
   "cell_type": "code",
   "execution_count": 4,
   "metadata": {},
   "outputs": [],
   "source": [
    "#Construct the dataframes to analyse this data\n",
    "abs_features = abs_2021[features]\n",
    "abs_features = abs_features.dropna(axis=0).reset_index(drop=True)\n",
    "rent = abs_features['Median weekly household rental payment ($)']\n",
    "abs_features = abs_features.drop(['Median weekly household rental payment ($)'], axis=1)"
   ]
  },
  {
   "cell_type": "code",
   "execution_count": 5,
   "metadata": {},
   "outputs": [
    {
     "name": "stdout",
     "output_type": "stream",
     "text": [
      "1 : 0.5474898666004558 \n",
      "\n",
      "2 : 0.5646405258265834 \n",
      "\n",
      "3 : 0.6089529222909704 \n",
      "\n",
      "4 : 0.6706443740825754 \n",
      "\n",
      "5 : 0.6949581131187168 \n",
      "\n",
      "6 : 0.6912037234790589 \n",
      "\n",
      "7 : 0.7066163224900674 \n",
      "\n",
      "8 : 0.7100217444358081 \n",
      "\n",
      "9 : 0.7233093299998987 \n",
      "\n",
      "10 : 0.7252826820014064 \n",
      "\n",
      "11 : 0.7325107018610053 \n",
      "\n",
      "12 : 0.7421842759776138 \n",
      "\n",
      "13 : 0.7663049985757374 \n",
      "\n",
      "14 : 0.7699545105424516 \n",
      "\n",
      "15 : 0.770639781619191 \n",
      "\n",
      "16 : 0.7608100273740309 \n",
      "\n",
      "17 : 0.7605195441223862 \n",
      "\n",
      "18 : 0.7558706967208175 \n",
      "\n",
      "19 : 0.7567606499239197 \n",
      "\n"
     ]
    }
   ],
   "source": [
    "#We want to find the best subgroup of all the features, so we find the highest score possible with our given features\n",
    "for i in range(1, 20):    \n",
    "    test = SelectKBest(score_func=f_classif, k=i)\n",
    "    fit = test.fit(abs_features, rent)\n",
    "\n",
    "    # Summarize scores\n",
    "    np.set_printoptions(precision=3)\n",
    "    #print(fit.scores_)\n",
    "\n",
    "    new_features = fit.transform(abs_features)\n",
    "\n",
    "    new_features.shape\n",
    "\n",
    "\n",
    "    mask = fit.get_support() #list of booleans\n",
    "    best_features = [] # The list of your K best features\n",
    "\n",
    "    for bool_val, feature in zip(mask, features):\n",
    "        if bool_val:\n",
    "            best_features.append(feature)\n",
    "\n",
    "    best_features\n",
    "    X_train, X_test, y_train, y_test = train_test_split(new_features, rent, test_size = 0.2, random_state=20037)\n",
    "\n",
    "    lr = LinearRegression().fit(X_train, y_train)\n",
    "\n",
    "    print(i, ':', lr.score(X_test, y_test), '\\n')\n",
    "\n"
   ]
  },
  {
   "cell_type": "code",
   "execution_count": 6,
   "metadata": {},
   "outputs": [
    {
     "name": "stdout",
     "output_type": "stream",
     "text": [
      "0.7325107018610053\n"
     ]
    }
   ],
   "source": [
    "test = SelectKBest(score_func=f_classif, k=11)\n",
    "fit = test.fit(abs_features, rent)\n",
    "\n",
    "# Summarize scores\n",
    "np.set_printoptions(precision=3)\n",
    "#print(fit.scores_)\n",
    "\n",
    "new_features = fit.transform(abs_features)\n",
    "\n",
    "new_features.shape\n",
    "\n",
    "\n",
    "mask = fit.get_support() #list of booleans\n",
    "best_features = [] # The list of your K best features\n",
    "\n",
    "for bool_val, feature in zip(mask, features):\n",
    "    if bool_val:\n",
    "        best_features.append(feature)\n",
    "\n",
    "best_features\n",
    "X_train, X_test, y_train, y_test = train_test_split(new_features, rent, test_size = 0.2, random_state=20037)\n",
    "\n",
    "lr = LinearRegression().fit(X_train, y_train)\n",
    "\n",
    "print(lr.score(X_test, y_test))\n"
   ]
  },
  {
   "cell_type": "code",
   "execution_count": 7,
   "metadata": {},
   "outputs": [
    {
     "name": "stdout",
     "output_type": "stream",
     "text": [
      "Estimated resident population (no.) = 0.006437677244720792 \n",
      "\n",
      "Median age - persons (years) = 4.795239956466803 \n",
      "\n",
      "Working age population (aged 15-64 years) (no.) = 0.0021122461663640735 \n",
      "\n",
      "Renter (no.) = -0.28389041713348273 \n",
      "\n",
      "Health care and social assistance (no.) = 0.08349901600980969 \n",
      "\n",
      "Houses - total (no.) = -0.022090005136383706 \n",
      "\n",
      "Townhouses - total (no.) = -0.019538796327422947 \n",
      "\n",
      "Apartments - total (no.) = -0.020574919178819984 \n",
      "\n",
      "Rented (no.) = 0.01692750919858088 \n",
      "\n",
      "Count of homeless persons (no.) = -0.10371574095996403 \n",
      "\n",
      "Median weekly household rental payment ($) = 0.09491622518202275 \n",
      "\n"
     ]
    }
   ],
   "source": [
    "#Find how our chosen 11 features effect the rental payments\n",
    "for i in range(len(best_features)):\n",
    "    print(best_features[i], '=', lr.coef_[i], '\\n')\n"
   ]
  },
  {
   "cell_type": "code",
   "execution_count": 8,
   "metadata": {},
   "outputs": [
    {
     "data": {
      "text/plain": [
       "<matplotlib.collections.PathCollection at 0x7f55936a18d0>"
      ]
     },
     "execution_count": 8,
     "metadata": {},
     "output_type": "execute_result"
    },
    {
     "data": {
      "image/png": "[encoded data removed]",
      "text/plain": [
       "<Figure size 640x480 with 1 Axes>"
      ]
     },
     "metadata": {},
     "output_type": "display_data"
    }
   ],
   "source": [
    "#Test our model\n",
    "y_pred = lr.predict(X_test)\n",
    "plt.scatter(y_test, y_pred, color ='b')\n"
   ]
  },
  {
   "cell_type": "code",
   "execution_count": 9,
   "metadata": {},
   "outputs": [
    {
     "name": "stdout",
     "output_type": "stream",
     "text": [
      "MAE: 24.47001459009675\n",
      "MSE: 1161.561917403387\n",
      "RMSE: 34.08169475544588\n"
     ]
    }
   ],
   "source": [
    "#Analyse how our well our model did\n",
    "mae = mean_absolute_error(y_true=y_test,y_pred=y_pred)\n",
    "#squared True returns MSE value, False returns RMSE value.\n",
    "mse = mean_squared_error(y_true=y_test,y_pred=y_pred) #default=True\n",
    "rmse = mean_squared_error(y_true=y_test,y_pred=y_pred,squared=False)\n",
    " \n",
    "print(\"MAE:\",mae)\n",
    "print(\"MSE:\",mse)\n",
    "print(\"RMSE:\",rmse)"
   ]
  }
 ],
 "metadata": {
  "kernelspec": {
   "display_name": "Python 3",
   "language": "python",
   "name": "python3"
  },
  "language_info": {
   "codemirror_mode": {
    "name": "ipython",
    "version": 3
   },
   "file_extension": ".py",
   "mimetype": "text/x-python",
   "name": "python",
   "nbconvert_exporter": "python",
   "pygments_lexer": "ipython3",
   "version": "3.9.13"
  },
  "orig_nbformat": 4
 },
 "nbformat": 4,
 "nbformat_minor": 2
}
