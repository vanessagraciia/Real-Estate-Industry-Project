{
 "cells": [
  {
   "cell_type": "code",
   "execution_count": 1,
   "metadata": {},
   "outputs": [],
   "source": [
    "import pandas as pd\n",
    "import os"
   ]
  },
  {
   "cell_type": "code",
   "execution_count": 2,
   "metadata": {},
   "outputs": [],
   "source": [
    "os.chdir('../data/raw/dataset')"
   ]
  },
  {
   "cell_type": "code",
   "execution_count": 3,
   "metadata": {},
   "outputs": [],
   "source": [
    "csv_files = [f for f in os.listdir() if f.endswith('.csv')]"
   ]
  },
  {
   "cell_type": "code",
   "execution_count": 4,
   "metadata": {},
   "outputs": [
    {
     "data": {
      "text/plain": [
       "507"
      ]
     },
     "execution_count": 4,
     "metadata": {},
     "output_type": "execute_result"
    }
   ],
   "source": [
    "len(csv_files)"
   ]
  },
  {
   "cell_type": "code",
   "execution_count": 5,
   "metadata": {},
   "outputs": [],
   "source": [
    "dfs = []\n",
    "\n",
    "for csv in csv_files:\n",
    "    df = pd.read_csv(csv)\n",
    "    dfs.append(df)"
   ]
  },
  {
   "cell_type": "code",
   "execution_count": 48,
   "metadata": {},
   "outputs": [],
   "source": [
    "final_df = pd.concat(dfs, ignore_index=True)"
   ]
  },
  {
   "cell_type": "code",
   "execution_count": 49,
   "metadata": {},
   "outputs": [
    {
     "data": {
      "text/html": [
       "<div>\n",
       "<style scoped>\n",
       "    .dataframe tbody tr th:only-of-type {\n",
       "        vertical-align: middle;\n",
       "    }\n",
       "\n",
       "    .dataframe tbody tr th {\n",
       "        vertical-align: top;\n",
       "    }\n",
       "\n",
       "    .dataframe thead th {\n",
       "        text-align: right;\n",
       "    }\n",
       "</style>\n",
       "<table border=\"1\" class=\"dataframe\">\n",
       "  <thead>\n",
       "    <tr style=\"text-align: right;\">\n",
       "      <th></th>\n",
       "      <th>Address</th>\n",
       "      <th>Prices</th>\n",
       "      <th>Bedroom</th>\n",
       "      <th>Bathroom</th>\n",
       "      <th>Parking</th>\n",
       "      <th>Type</th>\n",
       "    </tr>\n",
       "  </thead>\n",
       "  <tbody>\n",
       "    <tr>\n",
       "      <th>0</th>\n",
       "      <td>39 Durham Crescent, \\nHOPPERS CROSSING VIC 3029</td>\n",
       "      <td>$450 Per Week</td>\n",
       "      <td>3</td>\n",
       "      <td>2</td>\n",
       "      <td>2</td>\n",
       "      <td>House</td>\n",
       "    </tr>\n",
       "    <tr>\n",
       "      <th>1</th>\n",
       "      <td>7/1 Mabel Street, \\nIVANHOE VIC 3079</td>\n",
       "      <td>$450 Per Week</td>\n",
       "      <td>2</td>\n",
       "      <td>1</td>\n",
       "      <td>1</td>\n",
       "      <td>Townhouse</td>\n",
       "    </tr>\n",
       "    <tr>\n",
       "      <th>2</th>\n",
       "      <td>2/59 Green Street, \\nIVANHOE VIC 3079</td>\n",
       "      <td>$450 per week</td>\n",
       "      <td>2</td>\n",
       "      <td>1</td>\n",
       "      <td>1</td>\n",
       "      <td>Apartment / Unit / Flat</td>\n",
       "    </tr>\n",
       "    <tr>\n",
       "      <th>3</th>\n",
       "      <td>104/15 Ivanhoe Parade, \\nIVANHOE VIC 3079</td>\n",
       "      <td>$450 per week</td>\n",
       "      <td>1</td>\n",
       "      <td>1</td>\n",
       "      <td>1</td>\n",
       "      <td>Apartment / Unit / Flat</td>\n",
       "    </tr>\n",
       "    <tr>\n",
       "      <th>4</th>\n",
       "      <td>4/64 Lorraine Crescent, \\nJACANA VIC 3047</td>\n",
       "      <td>$450</td>\n",
       "      <td>2</td>\n",
       "      <td>1</td>\n",
       "      <td>1</td>\n",
       "      <td>Townhouse</td>\n",
       "    </tr>\n",
       "    <tr>\n",
       "      <th>...</th>\n",
       "      <td>...</td>\n",
       "      <td>...</td>\n",
       "      <td>...</td>\n",
       "      <td>...</td>\n",
       "      <td>...</td>\n",
       "      <td>...</td>\n",
       "    </tr>\n",
       "    <tr>\n",
       "      <th>10120</th>\n",
       "      <td>30 Scott Street, \\nBELMONT VIC 3216</td>\n",
       "      <td>$470.00</td>\n",
       "      <td>3</td>\n",
       "      <td>1</td>\n",
       "      <td>2</td>\n",
       "      <td>House</td>\n",
       "    </tr>\n",
       "    <tr>\n",
       "      <th>10121</th>\n",
       "      <td>6 Stringybark Court, \\nBERWICK VIC 3806</td>\n",
       "      <td>$470 per week</td>\n",
       "      <td>3</td>\n",
       "      <td>2</td>\n",
       "      <td></td>\n",
       "      <td>House</td>\n",
       "    </tr>\n",
       "    <tr>\n",
       "      <th>10122</th>\n",
       "      <td>104 Canterbury Jetty Road, \\nBLAIRGOWRIE VIC 3942</td>\n",
       "      <td>$470.00 per week pw</td>\n",
       "      <td>3</td>\n",
       "      <td>1</td>\n",
       "      <td>2</td>\n",
       "      <td>House</td>\n",
       "    </tr>\n",
       "    <tr>\n",
       "      <th>10123</th>\n",
       "      <td>14 Northerly Drive, \\nBONNIE BROOK VIC 3335</td>\n",
       "      <td>$470</td>\n",
       "      <td>4</td>\n",
       "      <td>2</td>\n",
       "      <td>2</td>\n",
       "      <td>House</td>\n",
       "    </tr>\n",
       "    <tr>\n",
       "      <th>10124</th>\n",
       "      <td>8/18 Cochrane Street, \\nBRIGHTON VIC 3186</td>\n",
       "      <td>$470.00</td>\n",
       "      <td>2</td>\n",
       "      <td>1</td>\n",
       "      <td>1</td>\n",
       "      <td>Apartment / Unit / Flat</td>\n",
       "    </tr>\n",
       "  </tbody>\n",
       "</table>\n",
       "<p>10125 rows × 6 columns</p>\n",
       "</div>"
      ],
      "text/plain": [
       "                                                 Address               Prices  \\\n",
       "0        39 Durham Crescent, \\nHOPPERS CROSSING VIC 3029        $450 Per Week   \n",
       "1                   7/1 Mabel Street, \\nIVANHOE VIC 3079        $450 Per Week   \n",
       "2                  2/59 Green Street, \\nIVANHOE VIC 3079        $450 per week   \n",
       "3              104/15 Ivanhoe Parade, \\nIVANHOE VIC 3079        $450 per week   \n",
       "4              4/64 Lorraine Crescent, \\nJACANA VIC 3047                 $450   \n",
       "...                                                  ...                  ...   \n",
       "10120                30 Scott Street, \\nBELMONT VIC 3216              $470.00   \n",
       "10121            6 Stringybark Court, \\nBERWICK VIC 3806        $470 per week   \n",
       "10122  104 Canterbury Jetty Road, \\nBLAIRGOWRIE VIC 3942  $470.00 per week pw   \n",
       "10123        14 Northerly Drive, \\nBONNIE BROOK VIC 3335                 $470   \n",
       "10124          8/18 Cochrane Street, \\nBRIGHTON VIC 3186              $470.00   \n",
       "\n",
       "      Bedroom Bathroom Parking                     Type  \n",
       "0           3        2       2                    House  \n",
       "1           2        1       1                Townhouse  \n",
       "2           2        1       1  Apartment / Unit / Flat  \n",
       "3           1        1       1  Apartment / Unit / Flat  \n",
       "4           2        1       1                Townhouse  \n",
       "...       ...      ...     ...                      ...  \n",
       "10120       3        1       2                    House  \n",
       "10121       3        2                            House  \n",
       "10122       3        1       2                    House  \n",
       "10123       4        2       2                    House  \n",
       "10124       2        1       1  Apartment / Unit / Flat  \n",
       "\n",
       "[10125 rows x 6 columns]"
      ]
     },
     "execution_count": 49,
     "metadata": {},
     "output_type": "execute_result"
    }
   ],
   "source": [
    "final_df"
   ]
  },
  {
   "cell_type": "code",
   "execution_count": 50,
   "metadata": {},
   "outputs": [],
   "source": [
    "# Remove duplicates\n",
    "unique_df = final_df.drop_duplicates()"
   ]
  },
  {
   "cell_type": "code",
   "execution_count": 51,
   "metadata": {},
   "outputs": [
    {
     "data": {
      "text/plain": [
       "Address     object\n",
       "Prices      object\n",
       "Bedroom     object\n",
       "Bathroom    object\n",
       "Parking     object\n",
       "Type        object\n",
       "dtype: object"
      ]
     },
     "execution_count": 51,
     "metadata": {},
     "output_type": "execute_result"
    }
   ],
   "source": [
    "unique_df.dtypes"
   ]
  },
  {
   "cell_type": "code",
   "execution_count": 52,
   "metadata": {},
   "outputs": [
    {
     "data": {
      "text/plain": [
       "Address     0\n",
       "Prices      0\n",
       "Bedroom     0\n",
       "Bathroom    0\n",
       "Parking     0\n",
       "Type        0\n",
       "dtype: int64"
      ]
     },
     "execution_count": 52,
     "metadata": {},
     "output_type": "execute_result"
    }
   ],
   "source": [
    "unique_df.isnull().sum()"
   ]
  },
  {
   "cell_type": "code",
   "execution_count": 55,
   "metadata": {},
   "outputs": [
    {
     "name": "stderr",
     "output_type": "stream",
     "text": [
      "/var/folders/fb/8dbpt5713rv57xwtdrr1lrbw0000gn/T/ipykernel_51668/1463324985.py:2: SettingWithCopyWarning: \n",
      "A value is trying to be set on a copy of a slice from a DataFrame.\n",
      "Try using .loc[row_indexer,col_indexer] = value instead\n",
      "\n",
      "See the caveats in the documentation: https://pandas.pydata.org/pandas-docs/stable/user_guide/indexing.html#returning-a-view-versus-a-copy\n",
      "  unique_df['Prices'] = unique_df['Prices'].astype(str)\n"
     ]
    }
   ],
   "source": [
    "# Convert 'Prices' column to string type (if not already)\n",
    "unique_df['Prices'] = unique_df['Prices'].astype(str)"
   ]
  },
  {
   "cell_type": "code",
   "execution_count": 57,
   "metadata": {},
   "outputs": [],
   "source": [
    "# Use regular expressions to extract the numerical values\n",
    "clean_df = unique_df.copy()  # Create a copy of unique_df to avoid modifying it\n",
    "clean_df['Prices'] = unique_df['Prices'].str.extract(r'(\\d+\\.\\d+|\\d+)').astype(float)"
   ]
  },
  {
   "cell_type": "code",
   "execution_count": 60,
   "metadata": {},
   "outputs": [
    {
     "data": {
      "text/html": [
       "<div>\n",
       "<style scoped>\n",
       "    .dataframe tbody tr th:only-of-type {\n",
       "        vertical-align: middle;\n",
       "    }\n",
       "\n",
       "    .dataframe tbody tr th {\n",
       "        vertical-align: top;\n",
       "    }\n",
       "\n",
       "    .dataframe thead th {\n",
       "        text-align: right;\n",
       "    }\n",
       "</style>\n",
       "<table border=\"1\" class=\"dataframe\">\n",
       "  <thead>\n",
       "    <tr style=\"text-align: right;\">\n",
       "      <th></th>\n",
       "      <th>Address</th>\n",
       "      <th>Prices</th>\n",
       "      <th>Bedroom</th>\n",
       "      <th>Bathroom</th>\n",
       "      <th>Parking</th>\n",
       "      <th>Type</th>\n",
       "    </tr>\n",
       "  </thead>\n",
       "  <tbody>\n",
       "    <tr>\n",
       "      <th>0</th>\n",
       "      <td>39 Durham Crescent, \\nHOPPERS CROSSING VIC 3029</td>\n",
       "      <td>450.0</td>\n",
       "      <td>3</td>\n",
       "      <td>2</td>\n",
       "      <td>2</td>\n",
       "      <td>House</td>\n",
       "    </tr>\n",
       "    <tr>\n",
       "      <th>1</th>\n",
       "      <td>7/1 Mabel Street, \\nIVANHOE VIC 3079</td>\n",
       "      <td>450.0</td>\n",
       "      <td>2</td>\n",
       "      <td>1</td>\n",
       "      <td>1</td>\n",
       "      <td>Townhouse</td>\n",
       "    </tr>\n",
       "    <tr>\n",
       "      <th>2</th>\n",
       "      <td>2/59 Green Street, \\nIVANHOE VIC 3079</td>\n",
       "      <td>450.0</td>\n",
       "      <td>2</td>\n",
       "      <td>1</td>\n",
       "      <td>1</td>\n",
       "      <td>Apartment / Unit / Flat</td>\n",
       "    </tr>\n",
       "    <tr>\n",
       "      <th>3</th>\n",
       "      <td>104/15 Ivanhoe Parade, \\nIVANHOE VIC 3079</td>\n",
       "      <td>450.0</td>\n",
       "      <td>1</td>\n",
       "      <td>1</td>\n",
       "      <td>1</td>\n",
       "      <td>Apartment / Unit / Flat</td>\n",
       "    </tr>\n",
       "    <tr>\n",
       "      <th>4</th>\n",
       "      <td>4/64 Lorraine Crescent, \\nJACANA VIC 3047</td>\n",
       "      <td>450.0</td>\n",
       "      <td>2</td>\n",
       "      <td>1</td>\n",
       "      <td>1</td>\n",
       "      <td>Townhouse</td>\n",
       "    </tr>\n",
       "    <tr>\n",
       "      <th>...</th>\n",
       "      <td>...</td>\n",
       "      <td>...</td>\n",
       "      <td>...</td>\n",
       "      <td>...</td>\n",
       "      <td>...</td>\n",
       "      <td>...</td>\n",
       "    </tr>\n",
       "    <tr>\n",
       "      <th>10120</th>\n",
       "      <td>30 Scott Street, \\nBELMONT VIC 3216</td>\n",
       "      <td>470.0</td>\n",
       "      <td>3</td>\n",
       "      <td>1</td>\n",
       "      <td>2</td>\n",
       "      <td>House</td>\n",
       "    </tr>\n",
       "    <tr>\n",
       "      <th>10121</th>\n",
       "      <td>6 Stringybark Court, \\nBERWICK VIC 3806</td>\n",
       "      <td>470.0</td>\n",
       "      <td>3</td>\n",
       "      <td>2</td>\n",
       "      <td></td>\n",
       "      <td>House</td>\n",
       "    </tr>\n",
       "    <tr>\n",
       "      <th>10122</th>\n",
       "      <td>104 Canterbury Jetty Road, \\nBLAIRGOWRIE VIC 3942</td>\n",
       "      <td>470.0</td>\n",
       "      <td>3</td>\n",
       "      <td>1</td>\n",
       "      <td>2</td>\n",
       "      <td>House</td>\n",
       "    </tr>\n",
       "    <tr>\n",
       "      <th>10123</th>\n",
       "      <td>14 Northerly Drive, \\nBONNIE BROOK VIC 3335</td>\n",
       "      <td>470.0</td>\n",
       "      <td>4</td>\n",
       "      <td>2</td>\n",
       "      <td>2</td>\n",
       "      <td>House</td>\n",
       "    </tr>\n",
       "    <tr>\n",
       "      <th>10124</th>\n",
       "      <td>8/18 Cochrane Street, \\nBRIGHTON VIC 3186</td>\n",
       "      <td>470.0</td>\n",
       "      <td>2</td>\n",
       "      <td>1</td>\n",
       "      <td>1</td>\n",
       "      <td>Apartment / Unit / Flat</td>\n",
       "    </tr>\n",
       "  </tbody>\n",
       "</table>\n",
       "<p>9218 rows × 6 columns</p>\n",
       "</div>"
      ],
      "text/plain": [
       "                                                 Address  Prices Bedroom  \\\n",
       "0        39 Durham Crescent, \\nHOPPERS CROSSING VIC 3029   450.0       3   \n",
       "1                   7/1 Mabel Street, \\nIVANHOE VIC 3079   450.0       2   \n",
       "2                  2/59 Green Street, \\nIVANHOE VIC 3079   450.0       2   \n",
       "3              104/15 Ivanhoe Parade, \\nIVANHOE VIC 3079   450.0       1   \n",
       "4              4/64 Lorraine Crescent, \\nJACANA VIC 3047   450.0       2   \n",
       "...                                                  ...     ...     ...   \n",
       "10120                30 Scott Street, \\nBELMONT VIC 3216   470.0       3   \n",
       "10121            6 Stringybark Court, \\nBERWICK VIC 3806   470.0       3   \n",
       "10122  104 Canterbury Jetty Road, \\nBLAIRGOWRIE VIC 3942   470.0       3   \n",
       "10123        14 Northerly Drive, \\nBONNIE BROOK VIC 3335   470.0       4   \n",
       "10124          8/18 Cochrane Street, \\nBRIGHTON VIC 3186   470.0       2   \n",
       "\n",
       "      Bathroom Parking                     Type  \n",
       "0            2       2                    House  \n",
       "1            1       1                Townhouse  \n",
       "2            1       1  Apartment / Unit / Flat  \n",
       "3            1       1  Apartment / Unit / Flat  \n",
       "4            1       1                Townhouse  \n",
       "...        ...     ...                      ...  \n",
       "10120        1       2                    House  \n",
       "10121        2                            House  \n",
       "10122        1       2                    House  \n",
       "10123        2       2                    House  \n",
       "10124        1       1  Apartment / Unit / Flat  \n",
       "\n",
       "[9218 rows x 6 columns]"
      ]
     },
     "execution_count": 60,
     "metadata": {},
     "output_type": "execute_result"
    }
   ],
   "source": [
    "clean_df"
   ]
  },
  {
   "cell_type": "code",
   "execution_count": 69,
   "metadata": {},
   "outputs": [],
   "source": [
    "# Define the absolute path for saving the file\n",
    "file_path = '../../curated/clean_data.csv'\n",
    "\n",
    "# Save the DataFrame to the specified absolute path\n",
    "clean_df.to_csv(file_path, index=False)"
   ]
  },
  {
   "cell_type": "code",
   "execution_count": null,
   "metadata": {},
   "outputs": [],
   "source": []
  }
 ],
 "metadata": {
  "kernelspec": {
   "display_name": "base",
   "language": "python",
   "name": "python3"
  },
  "language_info": {
   "codemirror_mode": {
    "name": "ipython",
    "version": 3
   },
   "file_extension": ".py",
   "mimetype": "text/x-python",
   "name": "python",
   "nbconvert_exporter": "python",
   "pygments_lexer": "ipython3",
   "version": "3.9.13"
  },
  "orig_nbformat": 4
 },
 "nbformat": 4,
 "nbformat_minor": 2
}
