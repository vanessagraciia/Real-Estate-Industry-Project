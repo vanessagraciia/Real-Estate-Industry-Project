{
 "cells": [
  {
   "cell_type": "code",
   "execution_count": 16,
   "metadata": {},
   "outputs": [],
   "source": [
    "import pandas as pd\n",
    "import os"
   ]
  },
  {
   "cell_type": "code",
   "execution_count": 24,
   "metadata": {},
   "outputs": [
    {
     "ename": "FileNotFoundError",
     "evalue": "[Errno 2] No such file or directory: '../data/raw/dataset'",
     "output_type": "error",
     "traceback": [
      "\u001b[0;31m---------------------------------------------------------------------------\u001b[0m",
      "\u001b[0;31mFileNotFoundError\u001b[0m                         Traceback (most recent call last)",
      "\u001b[0;32m/var/folders/fb/8dbpt5713rv57xwtdrr1lrbw0000gn/T/ipykernel_24982/4029639164.py\u001b[0m in \u001b[0;36m<module>\u001b[0;34m\u001b[0m\n\u001b[0;32m----> 1\u001b[0;31m \u001b[0mos\u001b[0m\u001b[0;34m.\u001b[0m\u001b[0mchdir\u001b[0m\u001b[0;34m(\u001b[0m\u001b[0;34m'../data/raw/dataset'\u001b[0m\u001b[0;34m)\u001b[0m\u001b[0;34m\u001b[0m\u001b[0;34m\u001b[0m\u001b[0m\n\u001b[0m",
      "\u001b[0;31mFileNotFoundError\u001b[0m: [Errno 2] No such file or directory: '../data/raw/dataset'"
     ]
    }
   ],
   "source": [
    "os.chdir('../data/raw/dataset')"
   ]
  },
  {
   "cell_type": "code",
   "execution_count": 18,
   "metadata": {},
   "outputs": [],
   "source": [
    "csv_files = [f for f in os.listdir() if f.endswith('.csv')]"
   ]
  },
  {
   "cell_type": "code",
   "execution_count": 19,
   "metadata": {},
   "outputs": [
    {
     "data": {
      "text/plain": [
       "470"
      ]
     },
     "execution_count": 19,
     "metadata": {},
     "output_type": "execute_result"
    }
   ],
   "source": [
    "len(csv_files)"
   ]
  },
  {
   "cell_type": "code",
   "execution_count": 20,
   "metadata": {},
   "outputs": [],
   "source": [
    "dfs = []\n",
    "\n",
    "for csv in csv_files:\n",
    "    df = pd.read_csv(csv)\n",
    "    dfs.append(df)"
   ]
  },
  {
   "cell_type": "code",
   "execution_count": 21,
   "metadata": {},
   "outputs": [],
   "source": [
    "final_df = pd.concat(dfs, ignore_index=True)"
   ]
  },
  {
   "cell_type": "code",
   "execution_count": 22,
   "metadata": {},
   "outputs": [
    {
     "data": {
      "text/html": [
       "<div>\n",
       "<style scoped>\n",
       "    .dataframe tbody tr th:only-of-type {\n",
       "        vertical-align: middle;\n",
       "    }\n",
       "\n",
       "    .dataframe tbody tr th {\n",
       "        vertical-align: top;\n",
       "    }\n",
       "\n",
       "    .dataframe thead th {\n",
       "        text-align: right;\n",
       "    }\n",
       "</style>\n",
       "<table border=\"1\" class=\"dataframe\">\n",
       "  <thead>\n",
       "    <tr style=\"text-align: right;\">\n",
       "      <th></th>\n",
       "      <th>Address</th>\n",
       "      <th>Prices</th>\n",
       "      <th>Bedroom</th>\n",
       "      <th>Bathroom</th>\n",
       "      <th>Parking</th>\n",
       "      <th>Type</th>\n",
       "    </tr>\n",
       "  </thead>\n",
       "  <tbody>\n",
       "    <tr>\n",
       "      <th>0</th>\n",
       "      <td>39 Durham Crescent, \\nHOPPERS CROSSING VIC 3029</td>\n",
       "      <td>$450 Per Week</td>\n",
       "      <td>3</td>\n",
       "      <td>2</td>\n",
       "      <td>2</td>\n",
       "      <td>House</td>\n",
       "    </tr>\n",
       "    <tr>\n",
       "      <th>1</th>\n",
       "      <td>7/1 Mabel Street, \\nIVANHOE VIC 3079</td>\n",
       "      <td>$450 Per Week</td>\n",
       "      <td>2</td>\n",
       "      <td>1</td>\n",
       "      <td>1</td>\n",
       "      <td>Townhouse</td>\n",
       "    </tr>\n",
       "    <tr>\n",
       "      <th>2</th>\n",
       "      <td>2/59 Green Street, \\nIVANHOE VIC 3079</td>\n",
       "      <td>$450 per week</td>\n",
       "      <td>2</td>\n",
       "      <td>1</td>\n",
       "      <td>1</td>\n",
       "      <td>Apartment / Unit / Flat</td>\n",
       "    </tr>\n",
       "    <tr>\n",
       "      <th>3</th>\n",
       "      <td>104/15 Ivanhoe Parade, \\nIVANHOE VIC 3079</td>\n",
       "      <td>$450 per week</td>\n",
       "      <td>1</td>\n",
       "      <td>1</td>\n",
       "      <td>1</td>\n",
       "      <td>Apartment / Unit / Flat</td>\n",
       "    </tr>\n",
       "    <tr>\n",
       "      <th>4</th>\n",
       "      <td>4/64 Lorraine Crescent, \\nJACANA VIC 3047</td>\n",
       "      <td>$450</td>\n",
       "      <td>2</td>\n",
       "      <td>1</td>\n",
       "      <td>1</td>\n",
       "      <td>Townhouse</td>\n",
       "    </tr>\n",
       "    <tr>\n",
       "      <th>...</th>\n",
       "      <td>...</td>\n",
       "      <td>...</td>\n",
       "      <td>...</td>\n",
       "      <td>...</td>\n",
       "      <td>...</td>\n",
       "      <td>...</td>\n",
       "    </tr>\n",
       "    <tr>\n",
       "      <th>9380</th>\n",
       "      <td>30 Scott Street, \\nBELMONT VIC 3216</td>\n",
       "      <td>$470.00</td>\n",
       "      <td>3</td>\n",
       "      <td>1</td>\n",
       "      <td>2</td>\n",
       "      <td>House</td>\n",
       "    </tr>\n",
       "    <tr>\n",
       "      <th>9381</th>\n",
       "      <td>6 Stringybark Court, \\nBERWICK VIC 3806</td>\n",
       "      <td>$470 per week</td>\n",
       "      <td>3</td>\n",
       "      <td>2</td>\n",
       "      <td></td>\n",
       "      <td>House</td>\n",
       "    </tr>\n",
       "    <tr>\n",
       "      <th>9382</th>\n",
       "      <td>104 Canterbury Jetty Road, \\nBLAIRGOWRIE VIC 3942</td>\n",
       "      <td>$470.00 per week pw</td>\n",
       "      <td>3</td>\n",
       "      <td>1</td>\n",
       "      <td>2</td>\n",
       "      <td>House</td>\n",
       "    </tr>\n",
       "    <tr>\n",
       "      <th>9383</th>\n",
       "      <td>14 Northerly Drive, \\nBONNIE BROOK VIC 3335</td>\n",
       "      <td>$470</td>\n",
       "      <td>4</td>\n",
       "      <td>2</td>\n",
       "      <td>2</td>\n",
       "      <td>House</td>\n",
       "    </tr>\n",
       "    <tr>\n",
       "      <th>9384</th>\n",
       "      <td>8/18 Cochrane Street, \\nBRIGHTON VIC 3186</td>\n",
       "      <td>$470.00</td>\n",
       "      <td>2</td>\n",
       "      <td>1</td>\n",
       "      <td>1</td>\n",
       "      <td>Apartment / Unit / Flat</td>\n",
       "    </tr>\n",
       "  </tbody>\n",
       "</table>\n",
       "<p>9385 rows × 6 columns</p>\n",
       "</div>"
      ],
      "text/plain": [
       "                                                Address               Prices  \\\n",
       "0       39 Durham Crescent, \\nHOPPERS CROSSING VIC 3029        $450 Per Week   \n",
       "1                  7/1 Mabel Street, \\nIVANHOE VIC 3079        $450 Per Week   \n",
       "2                 2/59 Green Street, \\nIVANHOE VIC 3079        $450 per week   \n",
       "3             104/15 Ivanhoe Parade, \\nIVANHOE VIC 3079        $450 per week   \n",
       "4             4/64 Lorraine Crescent, \\nJACANA VIC 3047                 $450   \n",
       "...                                                 ...                  ...   \n",
       "9380                30 Scott Street, \\nBELMONT VIC 3216              $470.00   \n",
       "9381            6 Stringybark Court, \\nBERWICK VIC 3806        $470 per week   \n",
       "9382  104 Canterbury Jetty Road, \\nBLAIRGOWRIE VIC 3942  $470.00 per week pw   \n",
       "9383        14 Northerly Drive, \\nBONNIE BROOK VIC 3335                 $470   \n",
       "9384          8/18 Cochrane Street, \\nBRIGHTON VIC 3186              $470.00   \n",
       "\n",
       "     Bedroom Bathroom Parking                     Type  \n",
       "0          3        2       2                    House  \n",
       "1          2        1       1                Townhouse  \n",
       "2          2        1       1  Apartment / Unit / Flat  \n",
       "3          1        1       1  Apartment / Unit / Flat  \n",
       "4          2        1       1                Townhouse  \n",
       "...      ...      ...     ...                      ...  \n",
       "9380       3        1       2                    House  \n",
       "9381       3        2                            House  \n",
       "9382       3        1       2                    House  \n",
       "9383       4        2       2                    House  \n",
       "9384       2        1       1  Apartment / Unit / Flat  \n",
       "\n",
       "[9385 rows x 6 columns]"
      ]
     },
     "execution_count": 22,
     "metadata": {},
     "output_type": "execute_result"
    }
   ],
   "source": [
    "final_df"
   ]
  },
  {
   "cell_type": "code",
   "execution_count": null,
   "metadata": {},
   "outputs": [],
   "source": []
  }
 ],
 "metadata": {
  "kernelspec": {
   "display_name": "base",
   "language": "python",
   "name": "python3"
  },
  "language_info": {
   "codemirror_mode": {
    "name": "ipython",
    "version": 3
   },
   "file_extension": ".py",
   "mimetype": "text/x-python",
   "name": "python",
   "nbconvert_exporter": "python",
   "pygments_lexer": "ipython3",
   "version": "3.9.13"
  },
  "orig_nbformat": 4
 },
 "nbformat": 4,
 "nbformat_minor": 2
}
