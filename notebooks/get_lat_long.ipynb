{
 "cells": [
  {
   "cell_type": "code",
   "execution_count": null,
   "metadata": {},
   "outputs": [],
   "source": [
    "import requests\n",
    "\n",
    "# Replace YOUR_API_KEY with your actual API key. Sign up and get an API key on https://www.geoapify.com/ \n",
    "API_KEY = \"f46c8497579042cb8db7731858a6fe81\"\n",
    "\n",
    "# Define the address to geocode\n",
    "address = \"160 Victoria Street, Carlton, VIC 3053\"\n",
    "\n",
    "# Build the API URL\n",
    "url = f\"https://api.geoapify.com/v1/geocode/search?text={address}&limit=1&apiKey={API_KEY}\"\n",
    "\n",
    "# Send the API request and get the response\n",
    "response = requests.get(url)\n",
    "\n",
    "# Check the response status code\n",
    "if response.status_code == 200:\n",
    "    # Parse the JSON data from the response\n",
    "    data = response.json()\n",
    "\n",
    "    # Extract the first result from the data\n",
    "    result = data[\"features\"][0]\n",
    "\n",
    "    # Extract the latitude and longitude of the result\n",
    "    latitude = result[\"geometry\"][\"coordinates\"][1]\n",
    "    longitude = result[\"geometry\"][\"coordinates\"][0]\n",
    "\n",
    "    print(f\"Latitude: {latitude}, Longitude: {longitude}\")\n",
    "else:\n",
    "    print(f\"Request failed with status code {response.status_code}\")"
   ]
  }
 ],
 "metadata": {
  "kernelspec": {
   "display_name": "base",
   "language": "python",
   "name": "python3"
  },
  "language_info": {
   "name": "python",
   "version": "3.9.13"
  },
  "orig_nbformat": 4
 },
 "nbformat": 4,
 "nbformat_minor": 2
}
