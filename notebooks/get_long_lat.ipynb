{
 "cells": [
  {
   "cell_type": "code",
   "execution_count": 2,
   "metadata": {},
   "outputs": [],
   "source": [
    "import pandas as pd"
   ]
  },
  {
   "cell_type": "code",
   "execution_count": 3,
   "metadata": {},
   "outputs": [],
   "source": [
    "data = pd.read_csv('../data/curated/Property_external.csv')"
   ]
  },
  {
   "cell_type": "code",
   "execution_count": 13,
   "metadata": {},
   "outputs": [],
   "source": [
    "# Import necessary modules\n",
    "import geopandas as gpd\n",
    "from shapely.geometry import Point\n",
    "\n",
    "# Import the geocoding tool\n",
    "from geopandas.tools import geocode\n",
    "\n",
    "# Geocode addresses using Nominatim. Remember to provide a custom \"application name\" in the user_agent parameter!\n",
    "geo = geocode(data['Address'], provider='nominatim', user_agent='autogis_xx', timeout = 10)"
   ]
  },
  {
   "cell_type": "code",
   "execution_count": 14,
   "metadata": {},
   "outputs": [],
   "source": [
    "geo.to_csv('../data/landing/geometry.csv')"
   ]
  },
  {
   "cell_type": "code",
   "execution_count": 4,
   "metadata": {},
   "outputs": [],
   "source": [
    "geo = pd.read_csv('../data/landing/geometry.csv')"
   ]
  },
  {
   "cell_type": "code",
   "execution_count": 5,
   "metadata": {},
   "outputs": [
    {
     "name": "stdout",
     "output_type": "stream",
     "text": [
      "The 'geometry' column has been converted to a GeoSeries\n"
     ]
    }
   ],
   "source": [
    "import geopandas as gpd\n",
    "from shapely.wkt import loads\n",
    "\n",
    "# Check if 'geometry' column is a GeoSeries\n",
    "if not isinstance(geo['geometry'], gpd.GeoSeries):\n",
    "    # Convert 'geometry' column to a GeoSeries\n",
    "    geo['geometry'] = geo['geometry'].apply(lambda x: loads(x))\n",
    "    geo = gpd.GeoDataFrame(geo, geometry='geometry')\n",
    "    \n",
    "    print(\"The 'geometry' column has been converted to a GeoSeries\")\n",
    "\n",
    "# Now, you should have the 'geometry' column as a GeoSeries"
   ]
  },
  {
   "cell_type": "code",
   "execution_count": 6,
   "metadata": {},
   "outputs": [],
   "source": [
    "# Extract latitude and longitude from the 'geometry' column\n",
    "geo['latitude'] = geo['geometry'].y\n",
    "geo['longitude'] = geo['geometry'].x"
   ]
  },
  {
   "cell_type": "code",
   "execution_count": 11,
   "metadata": {},
   "outputs": [
    {
     "data": {
      "text/html": [
       "<div>\n",
       "<style scoped>\n",
       "    .dataframe tbody tr th:only-of-type {\n",
       "        vertical-align: middle;\n",
       "    }\n",
       "\n",
       "    .dataframe tbody tr th {\n",
       "        vertical-align: top;\n",
       "    }\n",
       "\n",
       "    .dataframe thead th {\n",
       "        text-align: right;\n",
       "    }\n",
       "</style>\n",
       "<table border=\"1\" class=\"dataframe\">\n",
       "  <thead>\n",
       "    <tr style=\"text-align: right;\">\n",
       "      <th></th>\n",
       "      <th>Unnamed: 0</th>\n",
       "      <th>geometry</th>\n",
       "      <th>address</th>\n",
       "      <th>latitude</th>\n",
       "      <th>longitude</th>\n",
       "    </tr>\n",
       "  </thead>\n",
       "  <tbody>\n",
       "    <tr>\n",
       "      <th>1855</th>\n",
       "      <td>1855</td>\n",
       "      <td>POINT EMPTY</td>\n",
       "      <td>NaN</td>\n",
       "      <td>NaN</td>\n",
       "      <td>NaN</td>\n",
       "    </tr>\n",
       "  </tbody>\n",
       "</table>\n",
       "</div>"
      ],
      "text/plain": [
       "      Unnamed: 0     geometry address  latitude  longitude\n",
       "1855        1855  POINT EMPTY     NaN       NaN        NaN"
      ]
     },
     "execution_count": 11,
     "metadata": {},
     "output_type": "execute_result"
    }
   ],
   "source": [
    "geo"
   ]
  },
  {
   "cell_type": "code",
   "execution_count": 10,
   "metadata": {},
   "outputs": [
    {
     "data": {
      "text/html": [
       "<div>\n",
       "<style scoped>\n",
       "    .dataframe tbody tr th:only-of-type {\n",
       "        vertical-align: middle;\n",
       "    }\n",
       "\n",
       "    .dataframe tbody tr th {\n",
       "        vertical-align: top;\n",
       "    }\n",
       "\n",
       "    .dataframe thead th {\n",
       "        text-align: right;\n",
       "    }\n",
       "</style>\n",
       "<table border=\"1\" class=\"dataframe\">\n",
       "  <thead>\n",
       "    <tr style=\"text-align: right;\">\n",
       "      <th></th>\n",
       "      <th>Unnamed: 0</th>\n",
       "      <th>Address</th>\n",
       "      <th>Suburb</th>\n",
       "      <th>Prices</th>\n",
       "      <th>Estimated resident population (no.)</th>\n",
       "      <th>Population density (persons/km2)</th>\n",
       "      <th>Median age - persons (years)</th>\n",
       "      <th>Working age population (aged 15-64 years) (no.)</th>\n",
       "      <th>Employed (no.)</th>\n",
       "      <th>Unemployed (no.)</th>\n",
       "      <th>...</th>\n",
       "      <th>Value of residential building ($m)</th>\n",
       "      <th>Houses - total (no.)</th>\n",
       "      <th>Townhouses - total (no.)</th>\n",
       "      <th>Apartments - total (no.)</th>\n",
       "      <th>Median weekly household rental payment ($)</th>\n",
       "      <th>Rented (no.)</th>\n",
       "      <th>Count of homeless persons (no.)</th>\n",
       "      <th>Used at least one form of public transport (train, tram, bus, ferry) (no.)</th>\n",
       "      <th>latitude</th>\n",
       "      <th>longitude</th>\n",
       "    </tr>\n",
       "  </thead>\n",
       "  <tbody>\n",
       "    <tr>\n",
       "      <th>1855</th>\n",
       "      <td>1855</td>\n",
       "      <td>207B/58 Myrtle St, \\nIVANHOE VIC 3079</td>\n",
       "      <td>IVANHOE</td>\n",
       "      <td>550.0</td>\n",
       "      <td>12561.0</td>\n",
       "      <td>2487.4</td>\n",
       "      <td>40.9</td>\n",
       "      <td>8357.0</td>\n",
       "      <td>0.0</td>\n",
       "      <td>0.0</td>\n",
       "      <td>...</td>\n",
       "      <td>35.0</td>\n",
       "      <td>2911.0</td>\n",
       "      <td>1189.0</td>\n",
       "      <td>1529.0</td>\n",
       "      <td>440.0</td>\n",
       "      <td>1505.0</td>\n",
       "      <td>16.0</td>\n",
       "      <td>343.0</td>\n",
       "      <td>NaN</td>\n",
       "      <td>NaN</td>\n",
       "    </tr>\n",
       "  </tbody>\n",
       "</table>\n",
       "<p>1 rows × 27 columns</p>\n",
       "</div>"
      ],
      "text/plain": [
       "      Unnamed: 0                                Address   Suburb  Prices  \\\n",
       "1855        1855  207B/58 Myrtle St, \\nIVANHOE VIC 3079  IVANHOE   550.0   \n",
       "\n",
       "      Estimated resident population (no.)  Population density (persons/km2)  \\\n",
       "1855                              12561.0                            2487.4   \n",
       "\n",
       "      Median age - persons (years)  \\\n",
       "1855                          40.9   \n",
       "\n",
       "      Working age population (aged 15-64 years) (no.)  Employed (no.)  \\\n",
       "1855                                           8357.0             0.0   \n",
       "\n",
       "      Unemployed (no.)  ...  Value of residential building ($m)  \\\n",
       "1855               0.0  ...                                35.0   \n",
       "\n",
       "      Houses - total (no.)  Townhouses - total (no.)  \\\n",
       "1855                2911.0                    1189.0   \n",
       "\n",
       "      Apartments - total (no.)  Median weekly household rental payment ($)  \\\n",
       "1855                    1529.0                                       440.0   \n",
       "\n",
       "      Rented (no.)  Count of homeless persons (no.)  \\\n",
       "1855        1505.0                             16.0   \n",
       "\n",
       "      Used at least one form of public transport (train, tram, bus, ferry) (no.)  \\\n",
       "1855                                              343.0                            \n",
       "\n",
       "      latitude  longitude  \n",
       "1855       NaN        NaN  \n",
       "\n",
       "[1 rows x 27 columns]"
      ]
     },
     "execution_count": 10,
     "metadata": {},
     "output_type": "execute_result"
    }
   ],
   "source": [
    "address_full = pd.concat([data, geo[['latitude', 'longitude']]], axis=1)\n",
    "address_full"
   ]
  },
  {
   "cell_type": "code",
   "execution_count": 9,
   "metadata": {},
   "outputs": [],
   "source": [
    "# Define the absolute path for saving the file\n",
    "file_path = '../data/curated/geometry_property.csv'\n",
    "\n",
    "# Save the DataFrame to the specified absolute path\n",
    "address_full.to_csv(file_path, index=False)"
   ]
  }
 ],
 "metadata": {
  "kernelspec": {
   "display_name": "base",
   "language": "python",
   "name": "python3"
  },
  "language_info": {
   "codemirror_mode": {
    "name": "ipython",
    "version": 3
   },
   "file_extension": ".py",
   "mimetype": "text/x-python",
   "name": "python",
   "nbconvert_exporter": "python",
   "pygments_lexer": "ipython3",
   "version": "3.9.13"
  },
  "orig_nbformat": 4
 },
 "nbformat": 4,
 "nbformat_minor": 2
}
