{
 "cells": [
  {
   "cell_type": "code",
   "execution_count": 13,
   "metadata": {},
   "outputs": [],
   "source": [
    "import pandas as pd\n",
    "import folium"
   ]
  },
  {
   "cell_type": "code",
   "execution_count": 10,
   "metadata": {},
   "outputs": [],
   "source": [
    "data = pd.read_csv('../data/curated/geometry_property.csv')"
   ]
  },
  {
   "cell_type": "code",
   "execution_count": 12,
   "metadata": {},
   "outputs": [
    {
     "data": {
      "text/plain": [
       "Index(['Address', 'Suburb', 'Prices', 'Estimated resident population (no.)',\n",
       "       'Population density (persons/km2)', 'Median age - persons (years)',\n",
       "       'Working age population (aged 15-64 years) (no.)', 'Employed (no.)',\n",
       "       'Unemployed (no.)', 'Renter (no.)',\n",
       "       'Health care and social assistance (no.)',\n",
       "       'Financial and insurance services (no.)',\n",
       "       'Administrative and support services (no.)',\n",
       "       'Education and training (no.)', 'Accommodation and food services (no.)',\n",
       "       'Public administration and safety (no.)',\n",
       "       'Value of residential building ($m)', 'Houses - total (no.)',\n",
       "       'Townhouses - total (no.)', 'Apartments - total (no.)',\n",
       "       'Median weekly household rental payment ($)', 'Rented (no.)',\n",
       "       'Count of homeless persons (no.)',\n",
       "       'Used at least one form of public transport (train, tram, bus, ferry) (no.)',\n",
       "       'latitude', 'longitude'],\n",
       "      dtype='object')"
      ]
     },
     "execution_count": 12,
     "metadata": {},
     "output_type": "execute_result"
    }
   ],
   "source": [
    "data.columns"
   ]
  },
  {
   "cell_type": "code",
   "execution_count": 17,
   "metadata": {},
   "outputs": [
    {
     "name": "stdout",
     "output_type": "stream",
     "text": [
      "Rows with NaN values:\n",
      "                                                Address     Suburb  Prices  \\\n",
      "12        603/628 Flinders Street, \\nDOCKLANDS VIC 3008  DOCKLANDS   650.0   \n",
      "13       3515/628 Flinders Street, \\nDOCKLANDS VIC 3008  DOCKLANDS   650.0   \n",
      "15       4006/628 Flinders Street, \\nDOCKLANDS VIC 3008  DOCKLANDS   620.0   \n",
      "16     2901/231 Harbour Esplanade, \\nDOCKLANDS VIC 3008  DOCKLANDS   620.0   \n",
      "18    2309A/100 Harbour Esplanade, \\nDOCKLANDS VIC 3008  DOCKLANDS   620.0   \n",
      "...                                                 ...        ...     ...   \n",
      "4334          614/601 Sydney Road, \\nBRUNSWICK VIC 3056  BRUNSWICK   480.0   \n",
      "4337      503/611-621 Sydney Road, \\nBRUNSWICK VIC 3056  BRUNSWICK   480.0   \n",
      "4338       4/101-103 Synnot Street, \\nWERRIBEE VIC 3030   WERRIBEE   375.0   \n",
      "4341        111/251 Ballarat Road, \\nBRAYBROOK VIC 3019  BRAYBROOK   380.0   \n",
      "4344   Room 2, 5/16 Shepparson Ave, \\nCARNEGIE VIC 3163   CARNEGIE   380.0   \n",
      "\n",
      "      Estimated resident population (no.)  Population density (persons/km2)  \\\n",
      "12                                15942.0                            6522.9   \n",
      "13                                15942.0                            6522.9   \n",
      "15                                15942.0                            6522.9   \n",
      "16                                15942.0                            6522.9   \n",
      "18                                15942.0                            6522.9   \n",
      "...                                   ...                               ...   \n",
      "4334                              53768.0                           20807.5   \n",
      "4337                              53768.0                           20807.5   \n",
      "4338                              58887.0                            2806.9   \n",
      "4341                              19361.0                            2586.9   \n",
      "4344                              18803.0                            4942.3   \n",
      "\n",
      "      Median age - persons (years)  \\\n",
      "12                            32.5   \n",
      "13                            32.5   \n",
      "15                            32.5   \n",
      "16                            32.5   \n",
      "18                            32.5   \n",
      "...                            ...   \n",
      "4334                         136.6   \n",
      "4337                         136.6   \n",
      "4338                         105.5   \n",
      "4341                          34.1   \n",
      "4344                          36.0   \n",
      "\n",
      "      Working age population (aged 15-64 years) (no.)  Employed (no.)  \\\n",
      "12                                            13715.0             0.0   \n",
      "13                                            13715.0             0.0   \n",
      "15                                            13715.0             0.0   \n",
      "16                                            13715.0             0.0   \n",
      "18                                            13715.0             0.0   \n",
      "...                                               ...             ...   \n",
      "4334                                          42314.0             0.0   \n",
      "4337                                          42314.0             0.0   \n",
      "4338                                          39418.0             0.0   \n",
      "4341                                          14063.0             0.0   \n",
      "4344                                          13392.0             0.0   \n",
      "\n",
      "      Unemployed (no.)  Renter (no.)  ...  Value of residential building ($m)  \\\n",
      "12                 0.0          45.0  ...                                 2.0   \n",
      "13                 0.0          45.0  ...                                 2.0   \n",
      "15                 0.0          45.0  ...                                 2.0   \n",
      "16                 0.0          45.0  ...                                 2.0   \n",
      "18                 0.0          45.0  ...                                 2.0   \n",
      "...                ...           ...  ...                                 ...   \n",
      "4334               0.0         299.0  ...                               215.0   \n",
      "4337               0.0         299.0  ...                               215.0   \n",
      "4338               0.0         501.0  ...                               462.0   \n",
      "4341               0.0         101.0  ...                                77.0   \n",
      "4344               0.0          27.0  ...                                74.0   \n",
      "\n",
      "      Houses - total (no.)  Townhouses - total (no.)  \\\n",
      "12                    59.0                     152.0   \n",
      "13                    59.0                     152.0   \n",
      "15                    59.0                     152.0   \n",
      "16                    59.0                     152.0   \n",
      "18                    59.0                     152.0   \n",
      "...                    ...                       ...   \n",
      "4334                8601.0                    7170.0   \n",
      "4337                8601.0                    7170.0   \n",
      "4338               19321.0                    3015.0   \n",
      "4341                3748.0                    3404.0   \n",
      "4344                2749.0                    2556.0   \n",
      "\n",
      "      Apartments - total (no.)  Median weekly household rental payment ($)  \\\n",
      "12                     10602.0                                       411.0   \n",
      "13                     10602.0                                       411.0   \n",
      "15                     10602.0                                       411.0   \n",
      "16                     10602.0                                       411.0   \n",
      "18                     10602.0                                       411.0   \n",
      "...                        ...                                         ...   \n",
      "4334                   12379.0                                      1667.0   \n",
      "4337                   12379.0                                      1667.0   \n",
      "4338                     506.0                                      1026.0   \n",
      "4341                     799.0                                       350.0   \n",
      "4344                    4131.0                                       395.0   \n",
      "\n",
      "      Rented (no.)  Count of homeless persons (no.)  \\\n",
      "12          5056.0                             18.0   \n",
      "13          5056.0                             18.0   \n",
      "15          5056.0                             18.0   \n",
      "16          5056.0                             18.0   \n",
      "18          5056.0                             18.0   \n",
      "...            ...                              ...   \n",
      "4334       11861.0                            278.0   \n",
      "4337       11861.0                            278.0   \n",
      "4338        6808.0                            220.0   \n",
      "4341        3131.0                            182.0   \n",
      "4344        3460.0                             90.0   \n",
      "\n",
      "      Used at least one form of public transport (train, tram, bus, ferry) (no.)  \\\n",
      "12                                               1602.0                            \n",
      "13                                               1602.0                            \n",
      "15                                               1602.0                            \n",
      "16                                               1602.0                            \n",
      "18                                               1602.0                            \n",
      "...                                                 ...                            \n",
      "4334                                             3124.0                            \n",
      "4337                                             3124.0                            \n",
      "4338                                             1363.0                            \n",
      "4341                                              675.0                            \n",
      "4344                                              978.0                            \n",
      "\n",
      "      latitude  longitude  \n",
      "12         NaN        NaN  \n",
      "13         NaN        NaN  \n",
      "15         NaN        NaN  \n",
      "16         NaN        NaN  \n",
      "18         NaN        NaN  \n",
      "...        ...        ...  \n",
      "4334       NaN        NaN  \n",
      "4337       NaN        NaN  \n",
      "4338       NaN        NaN  \n",
      "4341       NaN        NaN  \n",
      "4344       NaN        NaN  \n",
      "\n",
      "[850 rows x 26 columns]\n"
     ]
    }
   ],
   "source": [
    "# Check for NaN values in each row\n",
    "nan_rows = data[data.isna().any(axis=1)]  # or df[df.isnull().any(axis=1)]\n",
    "\n",
    "print(\"Rows with NaN values:\")\n",
    "print(nan_rows)"
   ]
  },
  {
   "cell_type": "code",
   "execution_count": 15,
   "metadata": {},
   "outputs": [
    {
     "ename": "ValueError",
     "evalue": "Location values cannot contain NaNs.",
     "output_type": "error",
     "traceback": [
      "\u001b[0;31m---------------------------------------------------------------------------\u001b[0m",
      "\u001b[0;31mValueError\u001b[0m                                Traceback (most recent call last)",
      "\u001b[0;32m/var/folders/mc/_4clq8l155jdkpr2knhw_mw00000gn/T/ipykernel_15487/2514851917.py\u001b[0m in \u001b[0;36m<module>\u001b[0;34m\u001b[0m\n\u001b[1;32m      5\u001b[0m     \u001b[0mlon\u001b[0m \u001b[0;34m=\u001b[0m \u001b[0mrow\u001b[0m\u001b[0;34m[\u001b[0m\u001b[0;34m'longitude'\u001b[0m\u001b[0;34m]\u001b[0m\u001b[0;34m\u001b[0m\u001b[0;34m\u001b[0m\u001b[0m\n\u001b[1;32m      6\u001b[0m     \u001b[0maddress\u001b[0m \u001b[0;34m=\u001b[0m \u001b[0mrow\u001b[0m\u001b[0;34m[\u001b[0m\u001b[0;34m'Address'\u001b[0m\u001b[0;34m]\u001b[0m  \u001b[0;31m# Optional: You can customize the popup text\u001b[0m\u001b[0;34m\u001b[0m\u001b[0;34m\u001b[0m\u001b[0m\n\u001b[0;32m----> 7\u001b[0;31m     folium.Marker(\n\u001b[0m\u001b[1;32m      8\u001b[0m         \u001b[0mlocation\u001b[0m\u001b[0;34m=\u001b[0m\u001b[0;34m[\u001b[0m\u001b[0mlat\u001b[0m\u001b[0;34m,\u001b[0m \u001b[0mlon\u001b[0m\u001b[0;34m]\u001b[0m\u001b[0;34m,\u001b[0m\u001b[0;34m\u001b[0m\u001b[0;34m\u001b[0m\u001b[0m\n\u001b[1;32m      9\u001b[0m         \u001b[0mpopup\u001b[0m\u001b[0;34m=\u001b[0m\u001b[0maddress\u001b[0m  \u001b[0;31m# Optional: Customize the popup text\u001b[0m\u001b[0;34m\u001b[0m\u001b[0;34m\u001b[0m\u001b[0m\n",
      "\u001b[0;32m~/opt/anaconda3/lib/python3.9/site-packages/folium/map.py\u001b[0m in \u001b[0;36m__init__\u001b[0;34m(self, location, popup, tooltip, icon, draggable, **kwargs)\u001b[0m\n\u001b[1;32m    324\u001b[0m         \u001b[0msuper\u001b[0m\u001b[0;34m(\u001b[0m\u001b[0;34m)\u001b[0m\u001b[0;34m.\u001b[0m\u001b[0m__init__\u001b[0m\u001b[0;34m(\u001b[0m\u001b[0;34m)\u001b[0m\u001b[0;34m\u001b[0m\u001b[0;34m\u001b[0m\u001b[0m\n\u001b[1;32m    325\u001b[0m         \u001b[0mself\u001b[0m\u001b[0;34m.\u001b[0m\u001b[0m_name\u001b[0m \u001b[0;34m=\u001b[0m \u001b[0;34m\"Marker\"\u001b[0m\u001b[0;34m\u001b[0m\u001b[0;34m\u001b[0m\u001b[0m\n\u001b[0;32m--> 326\u001b[0;31m         \u001b[0mself\u001b[0m\u001b[0;34m.\u001b[0m\u001b[0mlocation\u001b[0m \u001b[0;34m=\u001b[0m \u001b[0mvalidate_location\u001b[0m\u001b[0;34m(\u001b[0m\u001b[0mlocation\u001b[0m\u001b[0;34m)\u001b[0m \u001b[0;32mif\u001b[0m \u001b[0mlocation\u001b[0m \u001b[0;32mis\u001b[0m \u001b[0;32mnot\u001b[0m \u001b[0;32mNone\u001b[0m \u001b[0;32melse\u001b[0m \u001b[0;32mNone\u001b[0m\u001b[0;34m\u001b[0m\u001b[0;34m\u001b[0m\u001b[0m\n\u001b[0m\u001b[1;32m    327\u001b[0m         self.options = parse_options(\n\u001b[1;32m    328\u001b[0m             \u001b[0mdraggable\u001b[0m\u001b[0;34m=\u001b[0m\u001b[0mdraggable\u001b[0m \u001b[0;32mor\u001b[0m \u001b[0;32mNone\u001b[0m\u001b[0;34m,\u001b[0m \u001b[0mautoPan\u001b[0m\u001b[0;34m=\u001b[0m\u001b[0mdraggable\u001b[0m \u001b[0;32mor\u001b[0m \u001b[0;32mNone\u001b[0m\u001b[0;34m,\u001b[0m \u001b[0;34m**\u001b[0m\u001b[0mkwargs\u001b[0m\u001b[0;34m\u001b[0m\u001b[0;34m\u001b[0m\u001b[0m\n",
      "\u001b[0;32m~/opt/anaconda3/lib/python3.9/site-packages/folium/utilities.py\u001b[0m in \u001b[0;36mvalidate_location\u001b[0;34m(location)\u001b[0m\n\u001b[1;32m     76\u001b[0m             )\n\u001b[1;32m     77\u001b[0m         \u001b[0;32mif\u001b[0m \u001b[0mmath\u001b[0m\u001b[0;34m.\u001b[0m\u001b[0misnan\u001b[0m\u001b[0;34m(\u001b[0m\u001b[0mfloat\u001b[0m\u001b[0;34m(\u001b[0m\u001b[0mcoord\u001b[0m\u001b[0;34m)\u001b[0m\u001b[0;34m)\u001b[0m\u001b[0;34m:\u001b[0m\u001b[0;34m\u001b[0m\u001b[0;34m\u001b[0m\u001b[0m\n\u001b[0;32m---> 78\u001b[0;31m             \u001b[0;32mraise\u001b[0m \u001b[0mValueError\u001b[0m\u001b[0;34m(\u001b[0m\u001b[0;34m\"Location values cannot contain NaNs.\"\u001b[0m\u001b[0;34m)\u001b[0m\u001b[0;34m\u001b[0m\u001b[0;34m\u001b[0m\u001b[0m\n\u001b[0m\u001b[1;32m     79\u001b[0m     \u001b[0;32mreturn\u001b[0m \u001b[0;34m[\u001b[0m\u001b[0mfloat\u001b[0m\u001b[0;34m(\u001b[0m\u001b[0mx\u001b[0m\u001b[0;34m)\u001b[0m \u001b[0;32mfor\u001b[0m \u001b[0mx\u001b[0m \u001b[0;32min\u001b[0m \u001b[0mcoords\u001b[0m\u001b[0;34m]\u001b[0m\u001b[0;34m\u001b[0m\u001b[0;34m\u001b[0m\u001b[0m\n\u001b[1;32m     80\u001b[0m \u001b[0;34m\u001b[0m\u001b[0m\n",
      "\u001b[0;31mValueError\u001b[0m: Location values cannot contain NaNs."
     ]
    }
   ],
   "source": [
    "m = folium.Map(location=[-37.4713, 144.7852], zoom_start=7)\n",
    "\n",
    "for index, row in data.iterrows():\n",
    "    lat = row['latitude']\n",
    "    lon = row['longitude']\n",
    "    address = row['Address']  # Optional: You can customize the popup text\n",
    "    folium.Marker(\n",
    "        location=[lat, lon],\n",
    "        popup=address  # Optional: Customize the popup text\n",
    "    ).add_to(m)\n"
   ]
  }
 ],
 "metadata": {
  "kernelspec": {
   "display_name": "base",
   "language": "python",
   "name": "python3"
  },
  "language_info": {
   "codemirror_mode": {
    "name": "ipython",
    "version": 3
   },
   "file_extension": ".py",
   "mimetype": "text/x-python",
   "name": "python",
   "nbconvert_exporter": "python",
   "pygments_lexer": "ipython3",
   "version": "3.9.13"
  },
  "orig_nbformat": 4
 },
 "nbformat": 4,
 "nbformat_minor": 2
}
