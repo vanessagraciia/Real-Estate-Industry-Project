{
 "cells": [
  {
   "cell_type": "code",
   "execution_count": 3,
   "metadata": {},
   "outputs": [],
   "source": [
    "import pandas as pd\n",
    "import os\n",
    "\n",
    "schools =  pd.read_csv('../data/raw/schoollocations.csv', encoding='cp1252')\n",
    "\n",
    "#Remove the schools that arent in our consideration critereon\n",
    "schools = schools[schools['Address_Postcode'].isin([i for i in range(3000,3201)])]\n",
    "\n",
    "#Remove all other data except for post code and coordinates\n",
    "schools_final = schools[['School_Name','Address_Postcode', 'X', 'Y']]\n",
    "\n",
    "schools_final.to_csv(os.path.join('../data/curated','school_locations.csv'))"
   ]
  }
 ],
 "metadata": {
  "kernelspec": {
   "display_name": "Python 3",
   "language": "python",
   "name": "python3"
  },
  "language_info": {
   "codemirror_mode": {
    "name": "ipython",
    "version": 3
   },
   "file_extension": ".py",
   "mimetype": "text/x-python",
   "name": "python",
   "nbconvert_exporter": "python",
   "pygments_lexer": "ipython3",
   "version": "3.10.12"
  },
  "orig_nbformat": 4
 },
 "nbformat": 4,
 "nbformat_minor": 2
}
